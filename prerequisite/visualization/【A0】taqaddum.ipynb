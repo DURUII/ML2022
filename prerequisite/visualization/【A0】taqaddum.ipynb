{
 "cells": [
  {
   "cell_type": "code",
   "execution_count": 8,
   "id": "b0f70238",
   "metadata": {
    "ExecuteTime": {
     "end_time": "2022-11-29T03:43:23.579908Z",
     "start_time": "2022-11-29T03:43:23.514078Z"
    }
   },
   "outputs": [],
   "source": [
    "import pandas as pd\n",
    "import numpy as np\n",
    "from time import sleep\n",
    "from tqdm.auto import tqdm,trange"
   ]
  },
  {
   "cell_type": "code",
   "execution_count": 2,
   "id": "0d8a58bc",
   "metadata": {
    "ExecuteTime": {
     "end_time": "2022-11-29T03:20:33.808982Z",
     "start_time": "2022-11-29T03:20:33.788045Z"
    }
   },
   "outputs": [],
   "source": [
    "kinds=np.random.choice(['beaver', 'dolphin', 'otter', 'seal', 'whale'],size=10_000)\n",
    "ranks=np.random.randint(0,100,size=10_000)\n",
    "df=pd.DataFrame(\n",
    "    data=np.array([kinds,ranks]).T,\n",
    "    columns=['kinds','ranks'],\n",
    ")"
   ]
  },
  {
   "cell_type": "code",
   "execution_count": 4,
   "id": "8e304dfe",
   "metadata": {
    "ExecuteTime": {
     "end_time": "2022-11-29T03:20:40.325691Z",
     "start_time": "2022-11-29T03:20:40.318456Z"
    }
   },
   "outputs": [
    {
     "data": {
      "text/html": [
       "<div>\n",
       "<style scoped>\n",
       "    .dataframe tbody tr th:only-of-type {\n",
       "        vertical-align: middle;\n",
       "    }\n",
       "\n",
       "    .dataframe tbody tr th {\n",
       "        vertical-align: top;\n",
       "    }\n",
       "\n",
       "    .dataframe thead th {\n",
       "        text-align: right;\n",
       "    }\n",
       "</style>\n",
       "<table border=\"1\" class=\"dataframe\">\n",
       "  <thead>\n",
       "    <tr style=\"text-align: right;\">\n",
       "      <th></th>\n",
       "      <th>kinds</th>\n",
       "      <th>ranks</th>\n",
       "    </tr>\n",
       "  </thead>\n",
       "  <tbody>\n",
       "    <tr>\n",
       "      <th>0</th>\n",
       "      <td>whale</td>\n",
       "      <td>98</td>\n",
       "    </tr>\n",
       "    <tr>\n",
       "      <th>1</th>\n",
       "      <td>dolphin</td>\n",
       "      <td>94</td>\n",
       "    </tr>\n",
       "    <tr>\n",
       "      <th>2</th>\n",
       "      <td>dolphin</td>\n",
       "      <td>23</td>\n",
       "    </tr>\n",
       "    <tr>\n",
       "      <th>3</th>\n",
       "      <td>whale</td>\n",
       "      <td>23</td>\n",
       "    </tr>\n",
       "    <tr>\n",
       "      <th>4</th>\n",
       "      <td>seal</td>\n",
       "      <td>62</td>\n",
       "    </tr>\n",
       "  </tbody>\n",
       "</table>\n",
       "</div>"
      ],
      "text/plain": [
       "     kinds ranks\n",
       "0    whale    98\n",
       "1  dolphin    94\n",
       "2  dolphin    23\n",
       "3    whale    23\n",
       "4     seal    62"
      ]
     },
     "execution_count": 4,
     "metadata": {},
     "output_type": "execute_result"
    }
   ],
   "source": [
    "df.head()"
   ]
  },
  {
   "cell_type": "code",
   "execution_count": 9,
   "id": "e2fecaa3",
   "metadata": {
    "ExecuteTime": {
     "end_time": "2022-11-29T03:43:26.871098Z",
     "start_time": "2022-11-29T03:43:26.137415Z"
    }
   },
   "outputs": [
    {
     "data": {
      "application/vnd.jupyter.widget-view+json": {
       "model_id": "53561808bd6341abaec596640e35b5c8",
       "version_major": 2,
       "version_minor": 0
      },
      "text/plain": [
       "counter:   0%|          | 0/10002 [00:00<?, ?it/s]"
      ]
     },
     "metadata": {},
     "output_type": "display_data"
    }
   ],
   "source": [
    "for kind in tqdm(kinds,desc=\"counter\",total=10_002):\n",
    "    sleep(0.00005)"
   ]
  },
  {
   "cell_type": "code",
   "execution_count": 7,
   "id": "6e2bae47",
   "metadata": {
    "ExecuteTime": {
     "end_time": "2022-11-29T03:20:59.736618Z",
     "start_time": "2022-11-29T03:20:54.443357Z"
    }
   },
   "outputs": [
    {
     "name": "stderr",
     "output_type": "stream",
     "text": [
      "100%|███████████████████████████████████████████| 50/50 [00:05<00:00,  9.46it/s]"
     ]
    },
    {
     "name": "stdout",
     "output_type": "stream",
     "text": [
      "done\n"
     ]
    },
    {
     "name": "stderr",
     "output_type": "stream",
     "text": [
      "\n"
     ]
    }
   ],
   "source": [
    "for i in trange(50):\n",
    "    sleep(0.1)\n",
    "print(\"done\")"
   ]
  },
  {
   "cell_type": "code",
   "execution_count": null,
   "id": "76469726",
   "metadata": {
    "ExecuteTime": {
     "end_time": "2022-11-29T03:17:35.779478Z",
     "start_time": "2022-11-29T03:17:22.701107Z"
    }
   },
   "outputs": [],
   "source": [
    "pbar=tqdm(total=10_000)\n",
    "for rank in ranks:\n",
    "    pbar.update(1)\n",
    "    sleep(0.001)\n",
    "pbar.close()"
   ]
  },
  {
   "cell_type": "code",
   "execution_count": null,
   "id": "237dea47",
   "metadata": {},
   "outputs": [],
   "source": []
  },
  {
   "cell_type": "code",
   "execution_count": null,
   "id": "96211716",
   "metadata": {},
   "outputs": [],
   "source": []
  }
 ],
 "metadata": {
  "kernelspec": {
   "display_name": "Python 3 (ipykernel)",
   "language": "python",
   "name": "python3"
  },
  "language_info": {
   "codemirror_mode": {
    "name": "ipython",
    "version": 3
   },
   "file_extension": ".py",
   "mimetype": "text/x-python",
   "name": "python",
   "nbconvert_exporter": "python",
   "pygments_lexer": "ipython3",
   "version": "3.9.12"
  },
  "toc": {
   "base_numbering": 1,
   "nav_menu": {},
   "number_sections": true,
   "sideBar": true,
   "skip_h1_title": false,
   "title_cell": "Table of Contents",
   "title_sidebar": "Contents",
   "toc_cell": false,
   "toc_position": {},
   "toc_section_display": true,
   "toc_window_display": true
  }
 },
 "nbformat": 4,
 "nbformat_minor": 5
}
