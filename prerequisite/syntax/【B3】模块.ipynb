{
 "cells": [
  {
   "cell_type": "code",
   "execution_count": 7,
   "id": "b5e3f18a",
   "metadata": {
    "ExecuteTime": {
     "end_time": "2022-10-26T04:55:39.790840Z",
     "start_time": "2022-10-26T04:55:39.787565Z"
    }
   },
   "outputs": [
    {
     "name": "stdout",
     "output_type": "stream",
     "text": [
      "86\n",
      "86\n"
     ]
    }
   ],
   "source": [
    "import B3_model as m\n",
    "\n",
    "m.f(8, 78)\n",
    "\n",
    "from model_test import f as fun\n",
    "\n",
    "fun(8, 78)"
   ]
  },
  {
   "cell_type": "code",
   "execution_count": 38,
   "id": "62d3f0f0",
   "metadata": {
    "ExecuteTime": {
     "end_time": "2022-10-26T04:56:56.900627Z",
     "start_time": "2022-10-26T04:56:56.897737Z"
    }
   },
   "outputs": [
    {
     "name": "stdout",
     "output_type": "stream",
     "text": [
      "5\n"
     ]
    }
   ],
   "source": [
    "import random as r\n",
    "\n",
    "print(r.randint(1, 10))  # 左闭右闭"
   ]
  }
 ],
 "metadata": {
  "kernelspec": {
   "display_name": "Python 3 (ipykernel)",
   "language": "python",
   "name": "python3"
  },
  "language_info": {
   "codemirror_mode": {
    "name": "ipython",
    "version": 3
   },
   "file_extension": ".py",
   "mimetype": "text/x-python",
   "name": "python",
   "nbconvert_exporter": "python",
   "pygments_lexer": "ipython3",
   "version": "3.9.12"
  }
 },
 "nbformat": 4,
 "nbformat_minor": 5
}
