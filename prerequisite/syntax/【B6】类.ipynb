{
 "cells": [
  {
   "cell_type": "code",
   "execution_count": 2,
   "id": "ac98089f",
   "metadata": {
    "ExecuteTime": {
     "end_time": "2022-10-27T00:32:41.766209Z",
     "start_time": "2022-10-27T00:32:41.761524Z"
    }
   },
   "outputs": [
    {
     "name": "stdout",
     "output_type": "stream",
     "text": [
      "['X']\n"
     ]
    }
   ],
   "source": [
    "class Cars:\n",
    "    # 静态变量\n",
    "    data = []\n",
    "\n",
    "\n",
    "a = Cars()\n",
    "a.data.append(\"X\")\n",
    "\n",
    "b = Cars()\n",
    "print(b.data)"
   ]
  },
  {
   "cell_type": "code",
   "execution_count": 14,
   "id": "e9999e6f",
   "metadata": {
    "ExecuteTime": {
     "end_time": "2022-10-27T05:42:04.351384Z",
     "start_time": "2022-10-27T05:42:04.343202Z"
    }
   },
   "outputs": [
    {
     "name": "stdout",
     "output_type": "stream",
     "text": [
      "created\n",
      "[4, 6, 8, [6, 7, 8, 6, 7, 8]]\n",
      "5\n",
      "created\n",
      "[]\n"
     ]
    }
   ],
   "source": [
    "class Car:\n",
    "    # 可以在构造函数内部定义成员变量\n",
    "    def __init__(self, x=0, y=0):\n",
    "        print(\"created\")\n",
    "        self.data = []\n",
    "\n",
    "    def update(self):\n",
    "        for i in range(len(self.data)):\n",
    "            self.data[i] *= 2\n",
    "\n",
    "\n",
    "a = Car()\n",
    "a.data += [2, 3, 4]\n",
    "a.data.append([6, 7, 8])\n",
    "a.update()\n",
    "# 注意看这个神奇的输出\n",
    "print(a.data)\n",
    "\n",
    "# Python 好随意 ...\n",
    "a.x = 5\n",
    "print(a.x)\n",
    "\n",
    "b = Car()\n",
    "print(b.data)"
   ]
  },
  {
   "cell_type": "code",
   "execution_count": 15,
   "id": "1fc45cd0",
   "metadata": {
    "ExecuteTime": {
     "end_time": "2022-10-27T05:43:29.256498Z",
     "start_time": "2022-10-27T05:43:29.252182Z"
    }
   },
   "outputs": [
    {
     "name": "stdout",
     "output_type": "stream",
     "text": [
      "created\n",
      "Tool Created\n"
     ]
    }
   ],
   "source": [
    "class Tool(Car):\n",
    "    def __init__(self):\n",
    "        super().__init__()\n",
    "        print(\"Tool Created\")\n",
    "        \n",
    "# 基类、父类\n",
    "t=Tool()"
   ]
  }
 ],
 "metadata": {
  "kernelspec": {
   "display_name": "Python 3 (ipykernel)",
   "language": "python",
   "name": "python3"
  },
  "language_info": {
   "codemirror_mode": {
    "name": "ipython",
    "version": 3
   },
   "file_extension": ".py",
   "mimetype": "text/x-python",
   "name": "python",
   "nbconvert_exporter": "python",
   "pygments_lexer": "ipython3",
   "version": "3.9.12"
  }
 },
 "nbformat": 4,
 "nbformat_minor": 5
}
