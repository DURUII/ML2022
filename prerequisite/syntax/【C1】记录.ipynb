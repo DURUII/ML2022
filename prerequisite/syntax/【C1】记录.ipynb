{
 "cells": [
  {
   "cell_type": "markdown",
   "id": "5b6026a8",
   "metadata": {},
   "source": [
    "# 虫坑"
   ]
  },
  {
   "cell_type": "code",
   "execution_count": 34,
   "id": "905e126c",
   "metadata": {
    "ExecuteTime": {
     "end_time": "2022-11-17T07:47:41.859690Z",
     "start_time": "2022-11-17T07:47:41.852671Z"
    }
   },
   "outputs": [
    {
     "name": "stdout",
     "output_type": "stream",
     "text": [
      "None\n"
     ]
    }
   ],
   "source": [
    "import math\n",
    "import sys\n",
    "\n",
    "case1 = [9, 8, 7, 3, 2, 2]\n",
    "case1 = case1.append(1)\n",
    "print(case1)"
   ]
  },
  {
   "cell_type": "code",
   "execution_count": 36,
   "id": "1ffdb5bd",
   "metadata": {
    "ExecuteTime": {
     "end_time": "2022-11-17T07:49:07.749325Z",
     "start_time": "2022-11-17T07:49:07.737956Z"
    }
   },
   "outputs": [
    {
     "name": "stdout",
     "output_type": "stream",
     "text": [
      "None\n"
     ]
    }
   ],
   "source": [
    "case2 = [9, 8, 8, 3, 3, 1]\n",
    "\n",
    "for i in case2:\n",
    "    if i % 2 == 0:\n",
    "        case2.remove(i)\n",
    "\n",
    "print(case1)"
   ]
  },
  {
   "cell_type": "code",
   "execution_count": 40,
   "id": "68ebb7a1",
   "metadata": {
    "ExecuteTime": {
     "end_time": "2022-11-17T07:52:36.499014Z",
     "start_time": "2022-11-17T07:52:36.487986Z"
    }
   },
   "outputs": [
    {
     "name": "stdout",
     "output_type": "stream",
     "text": [
      "4\n"
     ]
    }
   ],
   "source": [
    "case3 = ['a', 'b'\n",
    "              'c', 'd', 'e']\n",
    "\n",
    "print(len(case3))"
   ]
  },
  {
   "cell_type": "code",
   "execution_count": 41,
   "id": "3e75df32",
   "metadata": {
    "ExecuteTime": {
     "end_time": "2022-11-17T07:53:36.939072Z",
     "start_time": "2022-11-17T07:53:36.923030Z"
    }
   },
   "outputs": [
    {
     "name": "stdout",
     "output_type": "stream",
     "text": [
      "b\n",
      "i\n",
      "l\n",
      "i\n",
      "b\n",
      "i\n",
      "l\n",
      "i\n"
     ]
    }
   ],
   "source": [
    "case4 = ('bilibili')\n",
    "for i in case4:\n",
    "    print(i)"
   ]
  },
  {
   "cell_type": "code",
   "execution_count": 42,
   "id": "842dd9cb",
   "metadata": {
    "ExecuteTime": {
     "end_time": "2022-11-17T07:55:26.502377Z",
     "start_time": "2022-11-17T07:55:26.490346Z"
    }
   },
   "outputs": [
    {
     "name": "stdout",
     "output_type": "stream",
     "text": [
      "(10, 10) None\n"
     ]
    }
   ],
   "source": [
    "flag = True\n",
    "\n",
    "x, y = (10, 10) if flag else None, None\n",
    "print(x, y)"
   ]
  },
  {
   "cell_type": "code",
   "execution_count": 44,
   "outputs": [
    {
     "ename": "KeyError",
     "evalue": "'uid'",
     "output_type": "error",
     "traceback": [
      "\u001B[1;31m---------------------------------------------------------------------------\u001B[0m",
      "\u001B[1;31mKeyError\u001B[0m                                  Traceback (most recent call last)",
      "Cell \u001B[1;32mIn [44], line 5\u001B[0m\n\u001B[0;32m      1\u001B[0m data \u001B[38;5;241m=\u001B[39m {\u001B[38;5;124m\"\u001B[39m\u001B[38;5;124mname\u001B[39m\u001B[38;5;124m\"\u001B[39m: \u001B[38;5;124m\"\u001B[39m\u001B[38;5;124msds\u001B[39m\u001B[38;5;124m\"\u001B[39m,\n\u001B[0;32m      2\u001B[0m         \u001B[38;5;124m\"\u001B[39m\u001B[38;5;124mage\u001B[39m\u001B[38;5;124m\"\u001B[39m: \u001B[38;5;241m18\u001B[39m}\n\u001B[1;32m----> 5\u001B[0m \u001B[38;5;28mprint\u001B[39m(\u001B[43mdata\u001B[49m\u001B[43m[\u001B[49m\u001B[38;5;124;43m\"\u001B[39;49m\u001B[38;5;124;43muid\u001B[39;49m\u001B[38;5;124;43m\"\u001B[39;49m\u001B[43m]\u001B[49m)\n",
      "\u001B[1;31mKeyError\u001B[0m: 'uid'"
     ]
    }
   ],
   "source": [
    "data = {\"name\": \"sds\",\n",
    "        \"age\": 18}\n",
    "\n",
    "\n",
    "print(data[\"uid\"])"
   ],
   "metadata": {
    "collapsed": false
   }
  },
  {
   "cell_type": "code",
   "execution_count": 46,
   "outputs": [
    {
     "name": "stdout",
     "output_type": "stream",
     "text": [
      "8.574187700290345\n"
     ]
    }
   ],
   "source": [
    "def pow(base, exp):\n",
    "    return base**exp\n",
    "\n",
    "print(pow(2, 3.1))"
   ],
   "metadata": {
    "collapsed": false
   }
  },
  {
   "cell_type": "markdown",
   "id": "e07369e4",
   "metadata": {},
   "source": [
    "# 效率"
   ]
  },
  {
   "cell_type": "code",
   "execution_count": null,
   "id": "cd52c8d9",
   "metadata": {
    "ExecuteTime": {
     "end_time": "2022-11-17T07:57:24.815377Z",
     "start_time": "2022-11-17T07:57:24.802343Z"
    }
   },
   "outputs": [],
   "source": [
    "data = [1, 4, 5, 7, 8, 9]\n",
    "for idx, num in enumerate(data):\n",
    "    if num % 2 == 0:\n",
    "        data[idx] = 0\n",
    "\n",
    "print(data)"
   ]
  },
  {
   "cell_type": "code",
   "execution_count": null,
   "id": "ee1d830f",
   "metadata": {
    "ExecuteTime": {
     "end_time": "2022-11-17T07:59:59.223062Z",
     "start_time": "2022-11-17T07:59:59.219053Z"
    }
   },
   "outputs": [],
   "source": [
    "new_data = sorted(data, reverse=True)\n",
    "print(new_data)\n",
    "print(set(new_data))"
   ]
  },
  {
   "cell_type": "code",
   "execution_count": null,
   "id": "f8cdd230",
   "metadata": {},
   "outputs": [],
   "source": [
    "data = [\n",
    "    {\"name\": \"jia\", \"age\": 18},\n",
    "    {\"name\": \"yi\", \"age\": 60},\n",
    "    {\"name\": \"bing\", \"age\": 20},\n",
    "]\n",
    "\n",
    "new_data = sorted(data, key=lambda x: x[\"name\"])\n",
    "print(new_data)"
   ]
  },
  {
   "cell_type": "code",
   "execution_count": null,
   "outputs": [],
   "source": [
    "i = 9\n",
    "data = f\"{i}*{i}={i * i}\"\n",
    "print(data)"
   ],
   "metadata": {
    "collapsed": false
   }
  },
  {
   "cell_type": "code",
   "execution_count": null,
   "outputs": [],
   "source": [
    "data = [\"Hi\", \"my\", \"Code\"]\n",
    "print(\" \".join(data))"
   ],
   "metadata": {
    "collapsed": false
   }
  },
  {
   "cell_type": "code",
   "execution_count": null,
   "outputs": [],
   "source": [
    "data = \"a\"\n",
    "datas = [\"a\", \"b\", \"c\"]\n",
    "if data in datas:\n",
    "    print(data)"
   ],
   "metadata": {
    "collapsed": false
   }
  },
  {
   "cell_type": "code",
   "execution_count": null,
   "outputs": [],
   "source": [
    "print(10_000_000_000)"
   ],
   "metadata": {
    "collapsed": false
   }
  },
  {
   "cell_type": "code",
   "execution_count": null,
   "outputs": [],
   "source": [
    "import time\n",
    "\n",
    "tic=time.perf_counter()\n",
    "print(sys.getsizeof([i for i in range(1000)], \"bytes\"))\n",
    "toc=time.perf_counter()\n",
    "print(toc-tic)\n",
    "\n",
    "tic=time.perf_counter()\n",
    "print(sys.getsizeof((i for i in range(1000)), \"bytes\"))\n",
    "toc=time.perf_counter()\n",
    "print(toc-tic)"
   ],
   "metadata": {
    "collapsed": false
   }
  },
  {
   "cell_type": "code",
   "execution_count": null,
   "outputs": [],
   "source": [],
   "metadata": {
    "collapsed": false
   }
  }
 ],
 "metadata": {
  "kernelspec": {
   "display_name": "Python 3 (ipykernel)",
   "language": "python",
   "name": "python3"
  },
  "language_info": {
   "codemirror_mode": {
    "name": "ipython",
    "version": 3
   },
   "file_extension": ".py",
   "mimetype": "text/x-python",
   "name": "python",
   "nbconvert_exporter": "python",
   "pygments_lexer": "ipython3",
   "version": "3.8.10"
  },
  "toc": {
   "base_numbering": 1,
   "nav_menu": {},
   "number_sections": true,
   "sideBar": true,
   "skip_h1_title": false,
   "title_cell": "Table of Contents",
   "title_sidebar": "Contents",
   "toc_cell": false,
   "toc_position": {},
   "toc_section_display": true,
   "toc_window_display": false
  }
 },
 "nbformat": 4,
 "nbformat_minor": 5
}
