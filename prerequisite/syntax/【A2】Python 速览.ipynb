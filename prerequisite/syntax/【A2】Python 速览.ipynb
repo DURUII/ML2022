{
 "cells": [
  {
   "cell_type": "markdown",
   "id": "2a14e901",
   "metadata": {},
   "source": [
    "Python通常比实现同种功能的 C、C++、Java 代码短很多，[参考文档](https://docs.python.org/zh-cn/3/tutorial/index.html)：\n",
    "1. 语法糖\n",
    "2. 使用缩进，而不是括号实现代码块分组\n",
    "3. 无需预声明变量或参数"
   ]
  },
  {
   "cell_type": "code",
   "execution_count": 1,
   "id": "37d3ab06",
   "metadata": {
    "ExecuteTime": {
     "end_time": "2022-10-26T04:12:42.612730Z",
     "start_time": "2022-10-26T04:12:42.608015Z"
    },
    "code_folding": []
   },
   "outputs": [
    {
     "name": "stdout",
     "output_type": "stream",
     "text": [
      "5.0\n",
      "5\n",
      "16\n",
      "64\n",
      "-1\n"
     ]
    }
   ],
   "source": [
    "# // 表示整除\n",
    "# ** 表示幂运算\n",
    "a = (50 - 5 * 6) / 4\n",
    "print(a)\n",
    "\n",
    "b = (50 - 5 * 6) // 4\n",
    "print(b)\n",
    "\n",
    "c = 8 * 2\n",
    "print(c)\n",
    "\n",
    "d = 8 ** 2\n",
    "print(d)\n",
    "\n",
    "e = -1 // 3\n",
    "print(e)"
   ]
  },
  {
   "cell_type": "code",
   "execution_count": 3,
   "id": "6585a50c",
   "metadata": {
    "ExecuteTime": {
     "end_time": "2022-10-26T04:12:44.136492Z",
     "start_time": "2022-10-26T04:12:44.132819Z"
    },
    "code_folding": []
   },
   "outputs": [
    {
     "name": "stdout",
     "output_type": "stream",
     "text": [
      "\n",
      "duruiduruidurui\n",
      "hello \\n world\n"
     ]
    }
   ],
   "source": [
    "# 交互模式下，上次输出的表达式会赋给变量 _\n",
    "print(_)\n",
    "\n",
    "print(3 * \"durui\")\n",
    "\n",
    "text = (\"hello\"\n",
    "        r\" \\n \" + 'world')\n",
    "print(text)"
   ]
  },
  {
   "cell_type": "code",
   "execution_count": 4,
   "id": "e3d44ee8",
   "metadata": {
    "ExecuteTime": {
     "end_time": "2022-10-26T04:12:45.809059Z",
     "start_time": "2022-10-26T04:12:45.783814Z"
    }
   },
   "outputs": [
    {
     "name": "stdout",
     "output_type": "stream",
     "text": [
      "b\n",
      "g\n"
     ]
    },
    {
     "ename": "IndexError",
     "evalue": "string index out of range",
     "output_type": "error",
     "traceback": [
      "\u001B[0;31m---------------------------------------------------------------------------\u001B[0m",
      "\u001B[0;31mIndexError\u001B[0m                                Traceback (most recent call last)",
      "Input \u001B[0;32mIn [4]\u001B[0m, in \u001B[0;36m<cell line: 8>\u001B[0;34m()\u001B[0m\n\u001B[1;32m      4\u001B[0m \u001B[38;5;28mprint\u001B[39m(s[\u001B[38;5;241m1\u001B[39m])\n\u001B[1;32m      6\u001B[0m \u001B[38;5;28mprint\u001B[39m(s[\u001B[38;5;241m-\u001B[39m\u001B[38;5;241m1\u001B[39m])\n\u001B[0;32m----> 8\u001B[0m \u001B[38;5;28mprint\u001B[39m(\u001B[43ms\u001B[49m\u001B[43m[\u001B[49m\u001B[38;5;241;43m-\u001B[39;49m\u001B[38;5;241;43m20\u001B[39;49m\u001B[43m]\u001B[49m)\n",
      "\u001B[0;31mIndexError\u001B[0m: string index out of range"
     ]
    }
   ],
   "source": [
    "# 下标访问\n",
    "s = \"abcdefg\"\n",
    "\n",
    "print(s[1])\n",
    "\n",
    "print(s[-1])\n",
    "\n",
    "print(s[-20])"
   ]
  },
  {
   "cell_type": "code",
   "execution_count": 5,
   "id": "9fe48554",
   "metadata": {
    "ExecuteTime": {
     "end_time": "2022-10-26T04:12:47.366708Z",
     "start_time": "2022-10-26T04:12:47.340912Z"
    }
   },
   "outputs": [
    {
     "name": "stdout",
     "output_type": "stream",
     "text": [
      "\n",
      "ab\n",
      "abcdefg\n",
      "gfedcba\n",
      "8bcdefg\n"
     ]
    },
    {
     "ename": "TypeError",
     "evalue": "'str' object does not support item assignment",
     "output_type": "error",
     "traceback": [
      "\u001B[0;31m---------------------------------------------------------------------------\u001B[0m",
      "\u001B[0;31mTypeError\u001B[0m                                 Traceback (most recent call last)",
      "Input \u001B[0;32mIn [5]\u001B[0m, in \u001B[0;36m<cell line: 12>\u001B[0;34m()\u001B[0m\n\u001B[1;32m     10\u001B[0m \u001B[38;5;66;03m# 字符串不可修改\u001B[39;00m\n\u001B[1;32m     11\u001B[0m \u001B[38;5;28mprint\u001B[39m(\u001B[38;5;124m'\u001B[39m\u001B[38;5;124m8\u001B[39m\u001B[38;5;124m'\u001B[39m \u001B[38;5;241m+\u001B[39m s[\u001B[38;5;241m1\u001B[39m:])\n\u001B[0;32m---> 12\u001B[0m s[\u001B[38;5;241m0\u001B[39m] \u001B[38;5;241m=\u001B[39m \u001B[38;5;124m'\u001B[39m\u001B[38;5;124m8\u001B[39m\u001B[38;5;124m'\u001B[39m\n",
      "\u001B[0;31mTypeError\u001B[0m: 'str' object does not support item assignment"
     ]
    }
   ],
   "source": [
    "# 切片\n",
    "\n",
    "print(s[2:0])\n",
    "print(s[0:2])\n",
    "print(s[0:888])\n",
    "\n",
    "# 翻转写法\n",
    "print(s[::-1])\n",
    "\n",
    "# 字符串不可修改\n",
    "print('8' + s[1:])\n",
    "s[0] = '8'"
   ]
  },
  {
   "cell_type": "code",
   "execution_count": 6,
   "id": "2d415fe1",
   "metadata": {
    "ExecuteTime": {
     "end_time": "2022-10-26T04:12:51.828768Z",
     "start_time": "2022-10-26T04:12:51.818555Z"
    }
   },
   "outputs": [
    {
     "name": "stdout",
     "output_type": "stream",
     "text": [
      "[['A', 2], [3, 4]]\n",
      "[['A', 2], [3, 4]]\n",
      "[['A', 2], [3, 4], 6, ['B', 2], [3, 4], '8']\n",
      "长度为3的列表：[['A', 2], [3, 4], 6]\n",
      "长度为2的列表：['x', 6]\n",
      "长度为0的列表：[]\n"
     ]
    }
   ],
   "source": [
    "# Java    List    Set  Map\n",
    "# Python 元胞列表、集合、字典\n",
    "\n",
    "x = [1, 2]\n",
    "y = [3, 4]\n",
    "arr = [x, y]\n",
    "\n",
    "# 浅复制（别名、寄生）\n",
    "temp = arr\n",
    "temp[0][0] = 'A'\n",
    "print(arr)\n",
    "\n",
    "# 深复制\n",
    "\n",
    "import copy\n",
    "\n",
    "temp = copy.deepcopy(arr)\n",
    "temp[0][0] = 'B'\n",
    "print(arr)\n",
    "\n",
    "# 数组拼接\n",
    "arr.append(6)\n",
    "temp += \"8\"\n",
    "print(arr + temp)\n",
    "\n",
    "# 切片修改\n",
    "print(\"长度为\" + str(len(arr)) + \"的列表：\" + str(arr))\n",
    "arr[0:2] = [\"x\"]\n",
    "print(\"长度为\" + str(len(arr)) + \"的列表：\" + str(arr))\n",
    "arr[:] = []\n",
    "print(\"长度为\" + str(len(arr)) + \"的列表：\" + str(arr))"
   ]
  },
  {
   "cell_type": "code",
   "execution_count": 7,
   "id": "6670b260",
   "metadata": {
    "ExecuteTime": {
     "end_time": "2022-10-26T04:12:53.764307Z",
     "start_time": "2022-10-26T04:12:53.760028Z"
    }
   },
   "outputs": [
    {
     "name": "stdout",
     "output_type": "stream",
     "text": [
      "1 1 2 3 5 8 13 21 34 55 89 144 233 377 610 987 1597 2584 4181 6765 "
     ]
    }
   ],
   "source": [
    "# 斐波拉契数列【多重赋值、控制缩进】\n",
    "# python 没有 i++\n",
    "cnt = 0\n",
    "a, b = 1, 1\n",
    "while cnt in range(20):\n",
    "    print(a, end=\" \")\n",
    "    a, b = b, a + b  # Python 交换写法\n",
    "    cnt += 1"
   ]
  }
 ],
 "metadata": {
  "kernelspec": {
   "display_name": "Python 3.10.6 64-bit",
   "language": "python",
   "name": "python3"
  },
  "language_info": {
   "codemirror_mode": {
    "name": "ipython",
    "version": 3
   },
   "file_extension": ".py",
   "mimetype": "text/x-python",
   "name": "python",
   "nbconvert_exporter": "python",
   "pygments_lexer": "ipython3",
   "version": "3.10.6"
  },
  "vscode": {
   "interpreter": {
    "hash": "aee8b7b246df8f9039afb4144a1f6fd8d2ca17a180786b69acc140d282b71a49"
   }
  }
 },
 "nbformat": 4,
 "nbformat_minor": 5
}
