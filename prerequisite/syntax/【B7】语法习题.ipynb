{
 "cells": [
  {
   "cell_type": "markdown",
   "id": "08f805e3",
   "metadata": {
    "ExecuteTime": {
     "end_time": "2022-10-27T06:31:41.225606Z",
     "start_time": "2022-10-27T06:31:41.220257Z"
    }
   },
   "source": [
    "# [语法题1:差](https://www.acwing.com/problem/content/610/)"
   ]
  },
  {
   "cell_type": "code",
   "execution_count": 2,
   "id": "4850050a",
   "metadata": {
    "ExecuteTime": {
     "end_time": "2022-10-27T06:32:03.022717Z",
     "start_time": "2022-10-27T06:31:59.510823Z"
    }
   },
   "outputs": [
    {
     "name": "stdout",
     "output_type": "stream",
     "text": [
      "5\n",
      "6\n",
      "7\n",
      "8\n",
      "DIFERENCA = -26\n"
     ]
    }
   ],
   "source": [
    "# 读取一行\n",
    "a = int(input())\n",
    "b = int(input())\n",
    "c = int(input())\n",
    "d = int(input())\n",
    "\n",
    "# 简易输出\n",
    "print(\"DIFERENCA =\", a * b - c * d)"
   ]
  },
  {
   "cell_type": "code",
   "execution_count": 5,
   "id": "7616d2c5",
   "metadata": {
    "ExecuteTime": {
     "end_time": "2022-10-27T06:32:32.547088Z",
     "start_time": "2022-10-27T06:32:28.954198Z"
    }
   },
   "outputs": [
    {
     "name": "stdout",
     "output_type": "stream",
     "text": [
      "5\n",
      "6\n",
      "7\n",
      "8\n",
      "DIFERENCA = -26\n"
     ]
    }
   ],
   "source": [
    "def f(a, b, c, d):\n",
    "    return a * b - c * d\n",
    "\n",
    "\n",
    "# 循环读整数\n",
    "data = []\n",
    "for i in range(4):\n",
    "    data.append(int(input()))\n",
    "    ++i\n",
    "\n",
    "# 格式化输出\n",
    "print(\"DIFERENCA = %d\" % (f(*data)))"
   ]
  },
  {
   "cell_type": "markdown",
   "id": "c53ecbd7",
   "metadata": {},
   "source": [
    "# [语法题2:倍数](https://www.acwing.com/problem/content/667/)"
   ]
  },
  {
   "cell_type": "code",
   "execution_count": 7,
   "id": "50034a2c",
   "metadata": {
    "ExecuteTime": {
     "end_time": "2022-10-27T06:36:15.411754Z",
     "start_time": "2022-10-27T06:36:14.034597Z"
    }
   },
   "outputs": [
    {
     "name": "stdout",
     "output_type": "stream",
     "text": [
      "3 4\n",
      "Nao sao Multiplos\n"
     ]
    }
   ],
   "source": [
    "# 批量操作\n",
    "a, b = map(int, input().split(\" \"))\n",
    "\n",
    "if max(a, b) % min(a, b) == 0:\n",
    "    print(\"Sao Multiplos\")\n",
    "else:\n",
    "    print(\"Nao sao Multiplos\")"
   ]
  },
  {
   "cell_type": "markdown",
   "id": "ce4e2b28",
   "metadata": {},
   "source": [
    "# [语法题4:零食](https://www.acwing.com/problem/content/662/)"
   ]
  },
  {
   "cell_type": "code",
   "execution_count": 9,
   "id": "19966754",
   "metadata": {
    "ExecuteTime": {
     "end_time": "2022-10-27T06:47:08.919010Z",
     "start_time": "2022-10-27T06:47:07.674975Z"
    }
   },
   "outputs": [
    {
     "name": "stdout",
     "output_type": "stream",
     "text": [
      "3 2\n",
      "Total: R$ 10.00\n"
     ]
    }
   ],
   "source": [
    "x, y = map(int, input().split())\n",
    "prices = [0, 4, 4.5, 5, 2, 1.5]\n",
    "print(\"Total: R$ %.2lf\" % (prices[x] * y))"
   ]
  },
  {
   "cell_type": "markdown",
   "id": "6cf0fe7b",
   "metadata": {},
   "source": [
    "# [语法题5:字符串长度](https://www.acwing.com/problem/content/762/)"
   ]
  },
  {
   "cell_type": "code",
   "execution_count": 11,
   "id": "e99ea388",
   "metadata": {
    "ExecuteTime": {
     "end_time": "2022-10-27T06:50:43.911309Z",
     "start_time": "2022-10-27T06:50:37.538230Z"
    }
   },
   "outputs": [
    {
     "name": "stdout",
     "output_type": "stream",
     "text": [
      "I love Wuhan\n",
      "12\n"
     ]
    }
   ],
   "source": [
    "print(len(input()))"
   ]
  },
  {
   "cell_type": "markdown",
   "id": "e605a03b",
   "metadata": {},
   "source": [
    "# [语法题6:递增序列](https://www.acwing.com/problem/content/723/)"
   ]
  },
  {
   "cell_type": "code",
   "execution_count": null,
   "id": "71a7aa4f",
   "metadata": {},
   "outputs": [],
   "source": [
    "n = int(input())\n",
    "while (n != 0):\n",
    "    res = [i + 1 for i in range(n)]  # range(n)默认表示[0,n)\n",
    "    print(*res)  # 解包\n",
    "    n = int(input())"
   ]
  },
  {
   "cell_type": "code",
   "execution_count": null,
   "id": "eaa63041",
   "metadata": {},
   "outputs": [],
   "source": [
    "while True:\n",
    "    x = int(input())\n",
    "    if x == 0:\n",
    "        break\n",
    "    for i in range(1, x + 1):\n",
    "        print(i, end=' ')\n",
    "    print()"
   ]
  },
  {
   "cell_type": "markdown",
   "id": "6ba8dcfd",
   "metadata": {},
   "source": [
    "# [语法题7:质数](https://www.acwing.com/problem/content/728/)"
   ]
  },
  {
   "cell_type": "code",
   "execution_count": 13,
   "id": "70203632",
   "metadata": {
    "ExecuteTime": {
     "end_time": "2022-10-27T11:11:44.386602Z",
     "start_time": "2022-10-27T11:11:39.730789Z"
    }
   },
   "outputs": [
    {
     "name": "stdout",
     "output_type": "stream",
     "text": [
      "3\n",
      "4\n",
      "4 is not prime\n",
      "2\n",
      "2 is prime\n",
      "5\n",
      "5 is prime\n"
     ]
    }
   ],
   "source": [
    "import math\n",
    "\n",
    "\n",
    "def isPrime(n):\n",
    "    for i in range(2, math.floor(math.sqrt(n)) + 1):\n",
    "        if n % i == 0:\n",
    "            print(\"%d is not prime\" % n)\n",
    "            return False\n",
    "    else:\n",
    "        print(\"%d is prime\" % n)\n",
    "        return True\n",
    "\n",
    "\n",
    "t = int(input())\n",
    "for i in range(t):\n",
    "    n = int(input())\n",
    "    isPrime(n)"
   ]
  },
  {
   "cell_type": "markdown",
   "id": "f04df061",
   "metadata": {},
   "source": [
    "# [语法题8:上三角数组](https://www.acwing.com/problem/content/747/)"
   ]
  },
  {
   "cell_type": "code",
   "execution_count": null,
   "id": "af56d22f",
   "metadata": {},
   "outputs": [],
   "source": [
    "a = []\n",
    "S, C = 0, 0\n",
    "\n",
    "mode = input()\n",
    "for i in range(12):\n",
    "    a.append(list(map(float, input().split())))\n",
    "    for j in range(i + 1, 12):\n",
    "        S += a[i][j]\n",
    "        C += 1\n",
    "\n",
    "if mode == 'M':\n",
    "    print(\"%.1f\" % (S / C))\n",
    "else:\n",
    "    print(\"%.1f\" % (S))"
   ]
  },
  {
   "cell_type": "markdown",
   "id": "f37fc0f8",
   "metadata": {},
   "source": [
    "# [语法题9:蛇形填数](https://www.acwing.com/problem/content/758/)"
   ]
  },
  {
   "cell_type": "code",
   "execution_count": 72,
   "id": "8c771d37",
   "metadata": {
    "ExecuteTime": {
     "end_time": "2022-10-27T12:33:42.285952Z",
     "start_time": "2022-10-27T12:33:41.386212Z"
    }
   },
   "outputs": [
    {
     "name": "stdout",
     "output_type": "stream",
     "text": [
      "3 4\n",
      "1 2 3 4\n",
      "10 11 12 5\n",
      "9 8 7 6\n"
     ]
    }
   ],
   "source": [
    "row, column = map(int, input().split())\n",
    "res = [[0 for j in range(column)] for i in range(row)]\n",
    "dx, dy = [0, 1, 0, -1], [1, 0, -1, 0]\n",
    "\n",
    "# 偏移量，注意区分这里偏移量参照行，列\n",
    "x, y, d = 0, 0, 0\n",
    "\n",
    "for i in range(1, row * column + 1):\n",
    "    res[x][y] = i\n",
    "\n",
    "    nextX = x + dx[d]\n",
    "    nextY = y + dy[d]\n",
    "    if nextX < 0 or nextX >= row or nextY < 0 or nextY >= column or res[nextX][\n",
    "            nextY] != 0:\n",
    "        d = (d + 1) % 4\n",
    "        nextX, nextY = x + dx[d], y + dy[d]\n",
    "\n",
    "    x, y = nextX, nextY\n",
    "\n",
    "for i in range(row):\n",
    "    print(*res[i])"
   ]
  },
  {
   "cell_type": "markdown",
   "id": "8024fa58",
   "metadata": {
    "ExecuteTime": {
     "end_time": "2022-10-27T12:35:47.038757Z",
     "start_time": "2022-10-27T12:35:47.028492Z"
    }
   },
   "source": [
    "# [语法题10:全排列](https://www.acwing.com/problem/content/825/)"
   ]
  },
  {
   "cell_type": "code",
   "execution_count": 84,
   "id": "19611591",
   "metadata": {
    "ExecuteTime": {
     "end_time": "2022-10-27T12:45:17.825182Z",
     "start_time": "2022-10-27T12:45:17.014690Z"
    }
   },
   "outputs": [
    {
     "name": "stdout",
     "output_type": "stream",
     "text": [
      "3\n",
      "1 2 3\n",
      "1 3 2\n",
      "2 1 3\n",
      "2 3 1\n",
      "3 1 2\n",
      "3 2 1\n"
     ]
    }
   ],
   "source": [
    "n = int(input())\n",
    "ingredient = [True for i in range(n)]\n",
    "res = [0 for i in range(n)]\n",
    "\n",
    "\n",
    "def dfs(u):\n",
    "    if u == n:\n",
    "        print(*res)\n",
    "\n",
    "    for i in range(n):\n",
    "        if ingredient[i]:\n",
    "            res[u] = i + 1\n",
    "            ingredient[i] = False\n",
    "            dfs(u + 1)\n",
    "            # 回溯恢复现场\n",
    "            ingredient[i] = True\n",
    "            res[u] = 0\n",
    "\n",
    "\n",
    "dfs(0)"
   ]
  }
 ],
 "metadata": {
  "kernelspec": {
   "display_name": "Python 3 (ipykernel)",
   "language": "python",
   "name": "python3"
  },
  "language_info": {
   "codemirror_mode": {
    "name": "ipython",
    "version": 3
   },
   "file_extension": ".py",
   "mimetype": "text/x-python",
   "name": "python",
   "nbconvert_exporter": "python",
   "pygments_lexer": "ipython3",
   "version": "3.9.12"
  }
 },
 "nbformat": 4,
 "nbformat_minor": 5
}
