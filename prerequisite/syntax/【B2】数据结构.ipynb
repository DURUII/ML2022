{
 "cells": [
  {
   "cell_type": "code",
   "execution_count": 46,
   "id": "bd602249",
   "metadata": {
    "ExecuteTime": {
     "end_time": "2022-10-26T04:42:54.349275Z",
     "start_time": "2022-10-26T04:42:54.343949Z"
    }
   },
   "outputs": [
    {
     "name": "stdout",
     "output_type": "stream",
     "text": [
      "[1, 2, 3, 'x', 'y']\n",
      "5 \n",
      "\n",
      "[[1, 2, 3], [4, 5, 6], [7, 8, 9]]\n",
      "3\n"
     ]
    }
   ],
   "source": [
    "# 列表：元胞数组\n",
    "a = [1, 2, 3, \"x\"]\n",
    "a.append(\"y\")\n",
    "print(a)\n",
    "print(len(a), \"\\n\")\n",
    "\n",
    "# 数组\n",
    "a = [\n",
    "    [1, 2, 3],\n",
    "    [4, 5, 6],\n",
    "    [7, 8, 9],\n",
    "]\n",
    "print(a)\n",
    "print(len(a))"
   ]
  },
  {
   "cell_type": "code",
   "execution_count": 48,
   "id": "f6f0a52c",
   "metadata": {
    "ExecuteTime": {
     "end_time": "2022-10-26T04:42:58.875163Z",
     "start_time": "2022-10-26T04:42:58.870928Z"
    }
   },
   "outputs": [
    {
     "name": "stdout",
     "output_type": "stream",
     "text": [
      "[1, 3, 4, 6, 8, 8, 9]\n",
      "[3, 8, 4, 9, 1, 8, 6]\n",
      "None\n",
      "[1, 3, 4, 6, 8, 8, 9]\n"
     ]
    }
   ],
   "source": [
    "# 排序\n",
    "a = [3, 8, 4, 9, 1, 8, 6]\n",
    "print(sorted(a))  # 区分a.sort()和sorted(a)\n",
    "print(a)\n",
    "print(a.sort())  # 函数默认返回值为 None\n",
    "print(a)"
   ]
  },
  {
   "cell_type": "code",
   "execution_count": 49,
   "id": "f959d4ca",
   "metadata": {
    "ExecuteTime": {
     "end_time": "2022-10-26T04:43:00.784917Z",
     "start_time": "2022-10-26T04:43:00.781496Z"
    }
   },
   "outputs": [
    {
     "name": "stdout",
     "output_type": "stream",
     "text": [
      "[9, 8, 8, 6, 4, 3, 1]\n",
      "[1, 3, 4, 6, 8, 8, 9]\n",
      "None\n",
      "[9, 8, 8, 6, 4, 3, 1]\n"
     ]
    }
   ],
   "source": [
    "# 翻转\n",
    "print(a[::-1])\n",
    "print(a)\n",
    "print(a.reverse())\n",
    "print(a)"
   ]
  },
  {
   "cell_type": "code",
   "execution_count": 51,
   "id": "267685c2",
   "metadata": {
    "ExecuteTime": {
     "end_time": "2022-10-26T04:43:23.164265Z",
     "start_time": "2022-10-26T04:43:23.159317Z"
    }
   },
   "outputs": [
    {
     "name": "stdout",
     "output_type": "stream",
     "text": [
      "123 321\n",
      "\n",
      "\n",
      "3\n",
      "1 2 3\n",
      "2 1\n"
     ]
    }
   ],
   "source": [
    "# 解包\n",
    "a, b = \"123 321\".split(\" \")\n",
    "print(a, b)\n",
    "\n",
    "print(\"\\n\")\n",
    "\n",
    "# 元组对象不可修改\n",
    "b = 1, 2, 3\n",
    "b = (1, 2, 3)\n",
    "print(len(b))\n",
    "\n",
    "x, y, z = b\n",
    "print(x, y, z)\n",
    "\n",
    "# 利用元组交换\n",
    "x, y = (y, x)\n",
    "print(x, y)"
   ]
  },
  {
   "cell_type": "code",
   "execution_count": 53,
   "id": "f52d4df6",
   "metadata": {
    "ExecuteTime": {
     "end_time": "2022-10-26T04:43:40.103744Z",
     "start_time": "2022-10-26T04:43:40.100232Z"
    }
   },
   "outputs": [
    {
     "name": "stdout",
     "output_type": "stream",
     "text": [
      "[0, 1, 4, 9, 16, 25, 36, 49, 64, 81, 100]\n"
     ]
    }
   ],
   "source": [
    "# 倒装推导式\n",
    "b = [i * i for i in range(11)]\n",
    "print(b)"
   ]
  },
  {
   "cell_type": "code",
   "execution_count": 54,
   "id": "0cc3774c",
   "metadata": {
    "ExecuteTime": {
     "end_time": "2022-10-26T04:43:41.773229Z",
     "start_time": "2022-10-26T04:43:41.769824Z"
    }
   },
   "outputs": [
    {
     "name": "stdout",
     "output_type": "stream",
     "text": [
      "4\n"
     ]
    }
   ],
   "source": [
    "# 三元操作符\n",
    "x, y = 4, 5\n",
    "small = x if x < y else y\n",
    "print(small)"
   ]
  },
  {
   "cell_type": "code",
   "execution_count": 55,
   "id": "7af12339",
   "metadata": {
    "ExecuteTime": {
     "end_time": "2022-10-26T04:43:43.137969Z",
     "start_time": "2022-10-26T04:43:43.132571Z"
    }
   },
   "outputs": [
    {
     "name": "stdout",
     "output_type": "stream",
     "text": [
      "<class 'set'>\n",
      "<class 'dict'>\n"
     ]
    }
   ],
   "source": [
    "# 花括号可以是集合、也可以是字典\n",
    "print(type({1, 2}))\n",
    "print(type({'2': 2}))"
   ]
  },
  {
   "cell_type": "code",
   "execution_count": 56,
   "id": "1663cad6",
   "metadata": {
    "ExecuteTime": {
     "end_time": "2022-10-26T04:43:44.796403Z",
     "start_time": "2022-10-26T04:43:44.792975Z"
    }
   },
   "outputs": [
    {
     "name": "stdout",
     "output_type": "stream",
     "text": [
      "[1, 2, 4, 5]\n"
     ]
    }
   ],
   "source": [
    "# 集合判重\n",
    "a = [1, 2, 2, 4, 5]\n",
    "print(list(set(a)))"
   ]
  },
  {
   "cell_type": "code",
   "execution_count": 57,
   "id": "2ac665dd",
   "metadata": {
    "ExecuteTime": {
     "end_time": "2022-10-26T04:43:46.310999Z",
     "start_time": "2022-10-26T04:43:46.307311Z"
    }
   },
   "outputs": [
    {
     "name": "stdout",
     "output_type": "stream",
     "text": [
      "gallahad the pure\n",
      "robin the brave\n"
     ]
    }
   ],
   "source": [
    "# 字典键值对遍历\n",
    "knights = {'gallahad': 'the pure', 'robin': 'the brave'}\n",
    "for k, v in knights.items():\n",
    "    print(k, v)"
   ]
  },
  {
   "cell_type": "code",
   "execution_count": 58,
   "id": "fc7f6fae",
   "metadata": {
    "ExecuteTime": {
     "end_time": "2022-10-26T04:43:48.405923Z",
     "start_time": "2022-10-26T04:43:48.401329Z"
    }
   },
   "outputs": [
    {
     "name": "stdout",
     "output_type": "stream",
     "text": [
      "1 x\n",
      "2 y\n",
      "3 z\n"
     ]
    }
   ],
   "source": [
    "# 联合遍历\n",
    "a = [1, 2, 3]\n",
    "b = [\"x\", \"y\", \"z\"]\n",
    "for x, y in zip(a, b):\n",
    "    print(x, y)"
   ]
  }
 ],
 "metadata": {
  "kernelspec": {
   "display_name": "Python 3 (ipykernel)",
   "language": "python",
   "name": "python3"
  },
  "language_info": {
   "codemirror_mode": {
    "name": "ipython",
    "version": 3
   },
   "file_extension": ".py",
   "mimetype": "text/x-python",
   "name": "python",
   "nbconvert_exporter": "python",
   "pygments_lexer": "ipython3",
   "version": "3.9.12"
  }
 },
 "nbformat": 4,
 "nbformat_minor": 5
}
