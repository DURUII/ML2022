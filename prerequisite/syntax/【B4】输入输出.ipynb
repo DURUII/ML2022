{
 "cells": [
  {
   "cell_type": "code",
   "execution_count": 14,
   "id": "2cdd1426",
   "metadata": {
    "ExecuteTime": {
     "end_time": "2022-10-26T05:11:19.561688Z",
     "start_time": "2022-10-26T05:11:19.558626Z"
    }
   },
   "outputs": [
    {
     "name": "stdout",
     "output_type": "stream",
     "text": [
      "0002 3.40 abc\n"
     ]
    }
   ],
   "source": [
    "# 格式化\n",
    "s = \"%04d %.2lf %s\" % (2, 3.4, \"abc\")\n",
    "print(s)"
   ]
  },
  {
   "cell_type": "code",
   "execution_count": 15,
   "id": "8cde56a1",
   "metadata": {
    "ExecuteTime": {
     "end_time": "2022-10-26T05:11:21.052735Z",
     "start_time": "2022-10-26T05:11:21.048502Z"
    }
   },
   "outputs": [],
   "source": [
    "# 写文件\n",
    "# fout=open(\"7.txt\",\"w\")\n",
    "# fout.close()\n",
    "\n",
    "# 推荐写法\n",
    "with open(\"7.txt\", \"w\") as fout:\n",
    "    fout.write(\n",
    "        \"2017年，斯特朗教授在麻省理工学院开设了一个新的本科课程：18.065数据分析，信号处理和机器学习中的矩阵方法。\\n线性代数概念是理解和创建机器学习算法的关键，尤其是应用于深度学习和神经网络的机器学习算法。\\n该视频回顾线性代数及其在概率，统计和优化方面的应用，最重要的是，首次全面介绍深度学习。开启了线性代数在数据分析、信号处理和机器学习这些新领域的新篇章。\"\n",
    "    )"
   ]
  },
  {
   "cell_type": "code",
   "execution_count": 16,
   "id": "b48be313",
   "metadata": {
    "ExecuteTime": {
     "end_time": "2022-10-26T05:11:22.409213Z",
     "start_time": "2022-10-26T05:11:22.403821Z"
    }
   },
   "outputs": [
    {
     "name": "stdout",
     "output_type": "stream",
     "text": [
      "2017年，斯特朗教授在麻省理工学院开设了一个新的本科课程：18.065数据分析，信号处理和机器学习中的矩阵方法。\n",
      "线性代数概念是理解和创建机器学习算法的关键，尤其是应用于深度学习和神经网络的机器学习算法。\n",
      "该视频回顾线性代数及其在概率，统计和优化方面的应用，最重要的是，首次全面介绍深度学习。开启了线性代数在数据分析、信号处理和机器学习这些新领域的新篇章。 \n",
      "\n",
      "['2017年，斯特朗教授在麻省理工学院开设了一个新的本科课程：18.065数据分析，信号处理和机器学习中的矩阵方法。\\n', '线性代数概念是理解和创建机器学习算法的关键，尤其是应用于深度学习和神经网络的机器学习算法。\\n', '该视频回顾线性代数及其在概率，统计和优化方面的应用，最重要的是，首次全面介绍深度学习。开启了线性代数在数据分析、信号处理和机器学习这些新领域的新篇章。'] \n",
      "\n",
      "2017年，斯特朗教授在麻省理工学院开设了一个新的本科课程：18.065数据分析，信号处理和机器学习中的矩阵方法。\n",
      "线性代数概念是理解和创建机器学习算法的关键，尤其是应用于深度学习和神经网络的机器学习算法。\n",
      "该视频回顾线性代数及其在概率，统计和优化方面的应用，最重要的是，首次全面介绍深度学习。开启了线性代数在数据分析、信号处理和机器学习这些新领域的新篇章。"
     ]
    }
   ],
   "source": [
    "# 读文件\n",
    "with open(\"7.txt\", \"r\") as fin:\n",
    "    print(fin.read(), \"\\n\")\n",
    "\n",
    "with open(\"7.txt\", \"r\") as fin:\n",
    "    print(fin.readlines(), \"\\n\")\n",
    "\n",
    "with open(\"7.txt\", \"r\") as fin:\n",
    "    for line in fin:\n",
    "        print(line, end=\"\")"
   ]
  },
  {
   "cell_type": "markdown",
   "id": "9f98a18a",
   "metadata": {},
   "source": [
    "# [语法题1:差](https://www.acwing.com/problem/content/610/)"
   ]
  },
  {
   "cell_type": "code",
   "execution_count": 2,
   "id": "9ce75cff",
   "metadata": {
    "ExecuteTime": {
     "end_time": "2022-10-27T05:55:35.621130Z",
     "start_time": "2022-10-27T05:55:32.501898Z"
    }
   },
   "outputs": [
    {
     "name": "stdout",
     "output_type": "stream",
     "text": [
      "5\n",
      "6\n",
      "7\n",
      "8\n",
      "DIFERENCA = -26\n"
     ]
    }
   ],
   "source": [
    "# 读取一行\n",
    "a = int(input())\n",
    "b = int(input())\n",
    "c = int(input())\n",
    "d = int(input())\n",
    "\n",
    "# 简易输出\n",
    "print(\"DIFERENCA =\", a * b - c * d)"
   ]
  },
  {
   "cell_type": "code",
   "execution_count": 10,
   "id": "4832392a",
   "metadata": {
    "ExecuteTime": {
     "end_time": "2022-10-27T06:02:49.907875Z",
     "start_time": "2022-10-27T06:02:46.884547Z"
    }
   },
   "outputs": [
    {
     "name": "stdout",
     "output_type": "stream",
     "text": [
      "5\n",
      "6\n",
      "7\n",
      "8\n",
      "DIFERENCA = -26\n"
     ]
    }
   ],
   "source": [
    "def f(a, b, c, d):\n",
    "    return a * b - c * d\n",
    "\n",
    "# 循环读整数\n",
    "data = []\n",
    "for i in range(4):\n",
    "    data.append(int(input()))\n",
    "    ++i\n",
    "\n",
    "# 格式化输出\n",
    "print(\"DIFERENCA = %d\" % (f(*data)))"
   ]
  }
 ],
 "metadata": {
  "kernelspec": {
   "display_name": "Python 3 (ipykernel)",
   "language": "python",
   "name": "python3"
  },
  "language_info": {
   "codemirror_mode": {
    "name": "ipython",
    "version": 3
   },
   "file_extension": ".py",
   "mimetype": "text/x-python",
   "name": "python",
   "nbconvert_exporter": "python",
   "pygments_lexer": "ipython3",
   "version": "3.9.12"
  }
 },
 "nbformat": 4,
 "nbformat_minor": 5
}
