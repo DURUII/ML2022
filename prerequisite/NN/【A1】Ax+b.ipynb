{
 "cells": [
  {
   "cell_type": "code",
   "execution_count": 1,
   "id": "f9fbdcbb",
   "metadata": {
    "ExecuteTime": {
     "end_time": "2022-11-21T12:08:37.694518Z",
     "start_time": "2022-11-21T12:08:36.428559Z"
    }
   },
   "outputs": [],
   "source": [
    "import torch\n",
    "import torch.nn as nn\n",
    "from torch.optim import SGD\n",
    "import numpy as np\n",
    "import matplotlib.pyplot as plt\n",
    "import scienceplots\n",
    "import time\n",
    "\n",
    "plt.style.use(['science', 'notebook', 'grid'])"
   ]
  },
  {
   "cell_type": "code",
   "execution_count": 2,
   "id": "943e3807",
   "metadata": {
    "ExecuteTime": {
     "end_time": "2022-11-21T12:08:37.698325Z",
     "start_time": "2022-11-21T12:08:37.695638Z"
    }
   },
   "outputs": [],
   "source": [
    "x = torch.tensor([[6, 2],\n",
    "                  [5, 2], \n",
    "                  [1, 3],\n",
    "                  [7, 6]]).float()\n",
    "\n",
    "y = torch.tensor([1, 5, 2, 5]).float()"
   ]
  },
  {
   "cell_type": "code",
   "execution_count": 3,
   "id": "7429c3fe",
   "metadata": {
    "ExecuteTime": {
     "end_time": "2022-11-21T12:08:37.704504Z",
     "start_time": "2022-11-21T12:08:37.700631Z"
    }
   },
   "outputs": [
    {
     "data": {
      "text/plain": [
       "torch.Size([4, 2])"
      ]
     },
     "execution_count": 3,
     "metadata": {},
     "output_type": "execute_result"
    }
   ],
   "source": [
    "x.shape"
   ]
  },
  {
   "cell_type": "code",
   "execution_count": 4,
   "id": "de840077",
   "metadata": {
    "ExecuteTime": {
     "end_time": "2022-11-21T12:08:37.708123Z",
     "start_time": "2022-11-21T12:08:37.705638Z"
    }
   },
   "outputs": [
    {
     "data": {
      "text/plain": [
       "torch.Size([4])"
      ]
     },
     "execution_count": 4,
     "metadata": {},
     "output_type": "execute_result"
    }
   ],
   "source": [
    "y.shape"
   ]
  },
  {
   "cell_type": "code",
   "execution_count": 5,
   "id": "c95581dc",
   "metadata": {
    "ExecuteTime": {
     "end_time": "2022-11-21T12:08:37.714387Z",
     "start_time": "2022-11-21T12:08:37.709486Z"
    }
   },
   "outputs": [
    {
     "name": "stdout",
     "output_type": "stream",
     "text": [
      "Parameter containing:\n",
      "tensor([[-0.0439, -0.5515],\n",
      "        [ 0.5869,  0.6152],\n",
      "        [ 0.2653, -0.4976],\n",
      "        [-0.6396,  0.4220],\n",
      "        [ 0.3099,  0.0617],\n",
      "        [-0.2143, -0.3919],\n",
      "        [ 0.1908,  0.4552],\n",
      "        [ 0.5848, -0.2599]], requires_grad=True)\n"
     ]
    },
    {
     "data": {
      "text/plain": [
       "Linear(in_features=2, out_features=8, bias=False)"
      ]
     },
     "execution_count": 5,
     "metadata": {},
     "output_type": "execute_result"
    }
   ],
   "source": [
    "M1 = nn.Linear(2, 8, bias=False)\n",
    "\n",
    "for i in M1.parameters():\n",
    "    print(i)\n",
    "\n",
    "M1"
   ]
  },
  {
   "cell_type": "code",
   "execution_count": 6,
   "id": "87cb2aeb",
   "metadata": {
    "ExecuteTime": {
     "end_time": "2022-11-21T12:08:37.719211Z",
     "start_time": "2022-11-21T12:08:37.715638Z"
    }
   },
   "outputs": [
    {
     "data": {
      "text/plain": [
       "torch.Size([4, 8])"
      ]
     },
     "execution_count": 6,
     "metadata": {},
     "output_type": "execute_result"
    }
   ],
   "source": [
    "M1(x).shape"
   ]
  },
  {
   "cell_type": "code",
   "execution_count": 7,
   "id": "8f793da0",
   "metadata": {
    "ExecuteTime": {
     "end_time": "2022-11-21T12:08:37.722827Z",
     "start_time": "2022-11-21T12:08:37.720175Z"
    }
   },
   "outputs": [
    {
     "data": {
      "text/plain": [
       "Linear(in_features=8, out_features=1, bias=False)"
      ]
     },
     "execution_count": 7,
     "metadata": {},
     "output_type": "execute_result"
    }
   ],
   "source": [
    "M2 = nn.Linear(8, 1, bias=False)\n",
    "\n",
    "M2"
   ]
  },
  {
   "cell_type": "code",
   "execution_count": 8,
   "id": "9e0256a7",
   "metadata": {
    "ExecuteTime": {
     "end_time": "2022-11-21T12:08:37.726822Z",
     "start_time": "2022-11-21T12:08:37.723886Z"
    }
   },
   "outputs": [
    {
     "data": {
      "text/plain": [
       "tensor([[-3.1442],\n",
       "        [-2.4967],\n",
       "        [ 0.4636],\n",
       "        [-2.3103]], grad_fn=<MmBackward0>)"
      ]
     },
     "execution_count": 8,
     "metadata": {},
     "output_type": "execute_result"
    }
   ],
   "source": [
    "M2(M1(x))"
   ]
  },
  {
   "cell_type": "code",
   "execution_count": 9,
   "id": "400422b9",
   "metadata": {
    "ExecuteTime": {
     "end_time": "2022-11-21T12:08:37.731427Z",
     "start_time": "2022-11-21T12:08:37.727870Z"
    }
   },
   "outputs": [
    {
     "data": {
      "text/plain": [
       "tensor([-3.1442, -2.4967,  0.4636, -2.3103], grad_fn=<SqueezeBackward0>)"
      ]
     },
     "execution_count": 9,
     "metadata": {},
     "output_type": "execute_result"
    }
   ],
   "source": [
    "M2(M1(x)).squeeze()"
   ]
  },
  {
   "cell_type": "code",
   "execution_count": 10,
   "id": "24280618",
   "metadata": {
    "ExecuteTime": {
     "end_time": "2022-11-21T12:08:37.735615Z",
     "start_time": "2022-11-21T12:08:37.732321Z"
    }
   },
   "outputs": [
    {
     "data": {
      "text/plain": [
       "tensor([1., 5., 2., 5.])"
      ]
     },
     "execution_count": 10,
     "metadata": {},
     "output_type": "execute_result"
    }
   ],
   "source": [
    "y"
   ]
  },
  {
   "cell_type": "code",
   "execution_count": 11,
   "id": "25cb3030",
   "metadata": {
    "ExecuteTime": {
     "end_time": "2022-11-21T12:08:37.739269Z",
     "start_time": "2022-11-21T12:08:37.736718Z"
    }
   },
   "outputs": [],
   "source": [
    "class MyNeuralNet(nn.Module):\n",
    "    def __init__(self):\n",
    "        # Note: super()\n",
    "        super().__init__()\n",
    "        self.Matrix1 = nn.Linear(2, 8)\n",
    "        self.Matrix2 = nn.Linear(8, 1)\n",
    "\n",
    "    def forward(self, x):\n",
    "        x = self.Matrix1(x)\n",
    "        x = self.Matrix2(x)\n",
    "        return x.squeeze()"
   ]
  },
  {
   "cell_type": "code",
   "execution_count": 12,
   "id": "a531e7a2",
   "metadata": {
    "ExecuteTime": {
     "end_time": "2022-11-21T12:08:37.744072Z",
     "start_time": "2022-11-21T12:08:37.742093Z"
    }
   },
   "outputs": [],
   "source": [
    "f = MyNeuralNet()"
   ]
  },
  {
   "cell_type": "code",
   "execution_count": 13,
   "id": "63056cc4",
   "metadata": {
    "ExecuteTime": {
     "end_time": "2022-11-21T12:08:37.750097Z",
     "start_time": "2022-11-21T12:08:37.745345Z"
    }
   },
   "outputs": [
    {
     "name": "stdout",
     "output_type": "stream",
     "text": [
      "Parameter containing:\n",
      "tensor([[ 0.0522,  0.3089],\n",
      "        [ 0.0246,  0.0121],\n",
      "        [ 0.1318,  0.6361],\n",
      "        [-0.2511, -0.3531],\n",
      "        [ 0.0394, -0.6198],\n",
      "        [-0.2664, -0.3021],\n",
      "        [-0.4996,  0.6995],\n",
      "        [ 0.6762, -0.3064]], requires_grad=True)\n",
      "Parameter containing:\n",
      "tensor([ 0.5915,  0.4255,  0.1368,  0.3862, -0.5585, -0.0727,  0.0384,  0.4060],\n",
      "       requires_grad=True)\n",
      "Parameter containing:\n",
      "tensor([[ 0.1313,  0.0158,  0.0863,  0.2169,  0.0443, -0.3144,  0.2273,  0.1242]],\n",
      "       requires_grad=True)\n",
      "Parameter containing:\n",
      "tensor([0.0827], requires_grad=True)\n"
     ]
    }
   ],
   "source": [
    "for par in f.parameters():\n",
    "    print(par)"
   ]
  },
  {
   "cell_type": "code",
   "execution_count": 14,
   "id": "5d539d8c",
   "metadata": {
    "ExecuteTime": {
     "end_time": "2022-11-21T12:08:37.754543Z",
     "start_time": "2022-11-21T12:08:37.751634Z"
    }
   },
   "outputs": [
    {
     "name": "stdout",
     "output_type": "stream",
     "text": [
      "tensor(7.3238, grad_fn=<MeanBackward0>)\n"
     ]
    }
   ],
   "source": [
    "yhat = f(x)\n",
    "\n",
    "print(torch.mean((y-yhat)**2))"
   ]
  },
  {
   "cell_type": "markdown",
   "id": "cd1c907f",
   "metadata": {},
   "source": [
    "[Classical ML Equations in LaTeX](https://blmoistawinde.github.io/ml_equations_latex/)\n",
    "\n",
    "$$\\sum_{i=1}^{D}(x_i-y_i)^2$$"
   ]
  },
  {
   "cell_type": "code",
   "execution_count": 15,
   "id": "6ff3a487",
   "metadata": {
    "ExecuteTime": {
     "end_time": "2022-11-21T12:08:37.758933Z",
     "start_time": "2022-11-21T12:08:37.755894Z"
    }
   },
   "outputs": [
    {
     "data": {
      "text/plain": [
       "tensor(7.3238, grad_fn=<MseLossBackward0>)"
      ]
     },
     "execution_count": 15,
     "metadata": {},
     "output_type": "execute_result"
    }
   ],
   "source": [
    "L = nn.MSELoss()\n",
    "L(y, yhat)"
   ]
  },
  {
   "cell_type": "code",
   "execution_count": 16,
   "id": "f237507a",
   "metadata": {
    "ExecuteTime": {
     "end_time": "2022-11-21T12:08:37.762696Z",
     "start_time": "2022-11-21T12:08:37.759934Z"
    }
   },
   "outputs": [],
   "source": [
    "opt = SGD(f.parameters(), lr=0.001)"
   ]
  },
  {
   "cell_type": "code",
   "execution_count": 17,
   "id": "c2902c04",
   "metadata": {
    "ExecuteTime": {
     "end_time": "2022-11-21T12:08:37.893302Z",
     "start_time": "2022-11-21T12:08:37.763736Z"
    }
   },
   "outputs": [],
   "source": [
    "losses = []\n",
    "for _ in range(1000):\n",
    "    opt.zero_grad()\n",
    "    loss_value = L(f(x), y)\n",
    "    loss_value.backward()\n",
    "    opt.step()\n",
    "    losses.append(loss_value.item())"
   ]
  },
  {
   "cell_type": "code",
   "execution_count": 18,
   "id": "1efcde94",
   "metadata": {
    "ExecuteTime": {
     "end_time": "2022-11-21T12:08:38.039211Z",
     "start_time": "2022-11-21T12:08:37.894233Z"
    }
   },
   "outputs": [
    {
     "data": {
      "text/plain": [
       "[<matplotlib.lines.Line2D at 0x149033c70>]"
      ]
     },
     "execution_count": 18,
     "metadata": {},
     "output_type": "execute_result"
    },
    {
     "data": {
      "image/png": "[encoded data removed]",
      "text/plain": [
       "<Figure size 576x432 with 1 Axes>"
      ]
     },
     "metadata": {
      "needs_background": "light"
     },
     "output_type": "display_data"
    }
   ],
   "source": [
    "plt.plot(losses)"
   ]
  },
  {
   "cell_type": "code",
   "execution_count": 55,
   "id": "c997e6cd",
   "metadata": {
    "ExecuteTime": {
     "end_time": "2022-11-21T12:26:20.315176Z",
     "start_time": "2022-11-21T12:26:20.300221Z"
    }
   },
   "outputs": [
    {
     "data": {
      "text/plain": [
       "tensor([[2.8991, 2.6900, 2.3222, 4.9829]])"
      ]
     },
     "execution_count": 55,
     "metadata": {},
     "output_type": "execute_result"
    }
   ],
   "source": [
    "A1 = torch.tensor([[0.0783, 0.3295], [0.0282, 0.0149], [0.1537, 0.6537],\n",
    "                   [-0.2202, -0.3302], [0.0416, -0.6190], [-0.3257, -0.3481],\n",
    "                   [-0.4616, 0.7285], [0.7038, -0.2846]])\n",
    "\n",
    "b1 = torch.tensor(\n",
    "    [0.6152, 0.4306, 0.1581, 0.4045, -0.5643, -0.1178, 0.0650, 0.4307])\n",
    "\n",
    "A2 = torch.tensor([\n",
    "    [0.2504, 0.0699, 0.2089, 0.1776, -0.0909, -0.4156, 0.2431, 0.2489]])\n",
    "\n",
    "b2 = torch.tensor([0.1948])\n",
    "\n",
    "res=torch.mm(A1,x.T).T\n",
    "res=res+b1\n",
    "\n",
    "\n",
    "res=res.T\n",
    "res=torch.mm(A2,res)\n",
    "res=res+b2\n",
    "res"
   ]
  },
  {
   "cell_type": "code",
   "execution_count": 71,
   "id": "c06cc215",
   "metadata": {
    "ExecuteTime": {
     "end_time": "2022-11-21T12:44:48.635760Z",
     "start_time": "2022-11-21T12:44:48.588713Z"
    }
   },
   "outputs": [
    {
     "data": {
      "text/plain": [
       "tensor([2.8991, 2.6900, 2.3223, 4.9831], grad_fn=<SqueezeBackward0>)"
      ]
     },
     "execution_count": 71,
     "metadata": {},
     "output_type": "execute_result"
    }
   ],
   "source": [
    "f(x)"
   ]
  },
  {
   "cell_type": "code",
   "execution_count": 72,
   "id": "4d4bb219",
   "metadata": {
    "ExecuteTime": {
     "end_time": "2022-11-21T12:47:36.060396Z",
     "start_time": "2022-11-21T12:47:36.055410Z"
    }
   },
   "outputs": [
    {
     "data": {
      "text/plain": [
       "tensor([1., 5., 2., 5.])"
      ]
     },
     "execution_count": 72,
     "metadata": {},
     "output_type": "execute_result"
    }
   ],
   "source": [
    "y"
   ]
  }
 ],
 "metadata": {
  "kernelspec": {
   "display_name": "Python 3 (ipykernel)",
   "language": "python",
   "name": "python3"
  },
  "language_info": {
   "codemirror_mode": {
    "name": "ipython",
    "version": 3
   },
   "file_extension": ".py",
   "mimetype": "text/x-python",
   "name": "python",
   "nbconvert_exporter": "python",
   "pygments_lexer": "ipython3",
   "version": "3.9.12"
  },
  "toc": {
   "base_numbering": 1,
   "nav_menu": {},
   "number_sections": true,
   "sideBar": true,
   "skip_h1_title": false,
   "title_cell": "Table of Contents",
   "title_sidebar": "Contents",
   "toc_cell": false,
   "toc_position": {},
   "toc_section_display": true,
   "toc_window_display": true
  }
 },
 "nbformat": 4,
 "nbformat_minor": 5
}
