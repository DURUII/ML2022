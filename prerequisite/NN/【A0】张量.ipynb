{
 "cells": [
  {
   "cell_type": "code",
   "execution_count": 1,
   "id": "52134328",
   "metadata": {
    "ExecuteTime": {
     "end_time": "2022-11-21T11:46:20.780207Z",
     "start_time": "2022-11-21T11:46:19.509522Z"
    }
   },
   "outputs": [],
   "source": [
    "import torch\n",
    "import torch.nn as nn\n",
    "import numpy as np\n",
    "import scienceplots\n",
    "import matplotlib.pyplot as plt\n",
    "import time\n",
    "\n",
    "plt.style.use(['science', 'notebook', 'grid'])"
   ]
  },
  {
   "cell_type": "markdown",
   "id": "363b01e6",
   "metadata": {
    "ExecuteTime": {
     "end_time": "2022-11-21T04:20:14.639425Z",
     "start_time": "2022-11-21T04:20:14.636861Z"
    }
   },
   "source": [
    "# Numpy vs. Torch"
   ]
  },
  {
   "cell_type": "code",
   "execution_count": null,
   "id": "71211d58",
   "metadata": {
    "ExecuteTime": {
     "end_time": "2022-11-21T04:26:11.412430Z",
     "start_time": "2022-11-21T04:26:11.402058Z"
    }
   },
   "outputs": [],
   "source": [
    "n = np.linspace(0, 1, 5)  # array\n",
    "t = torch.linspace(0, 1, 5)  # tensor"
   ]
  },
  {
   "cell_type": "code",
   "execution_count": null,
   "id": "89b69716",
   "metadata": {
    "ExecuteTime": {
     "end_time": "2022-11-21T04:28:02.774521Z",
     "start_time": "2022-11-21T04:28:02.767563Z"
    }
   },
   "outputs": [],
   "source": [
    "n = np.arange(48).reshape(3, 4, 4)\n",
    "t = torch.arange(48).reshape(3, 4, 4)"
   ]
  },
  {
   "cell_type": "markdown",
   "id": "8f7ad165",
   "metadata": {
    "ExecuteTime": {
     "end_time": "2022-11-21T04:28:31.005182Z",
     "start_time": "2022-11-21T04:28:31.002453Z"
    }
   },
   "source": [
    "# Inverse Broadcasting"
   ]
  },
  {
   "cell_type": "code",
   "execution_count": null,
   "id": "2df78705",
   "metadata": {
    "ExecuteTime": {
     "end_time": "2022-11-21T04:34:52.871672Z",
     "start_time": "2022-11-21T04:34:52.866035Z"
    }
   },
   "outputs": [],
   "source": [
    "a = np.array([1, 2])\n",
    "print(a.shape)\n",
    "\n",
    "b = np.array([3, 4])\n",
    "print(b.shape)\n",
    "\n",
    "a*b  # element-wise"
   ]
  },
  {
   "cell_type": "code",
   "execution_count": null,
   "id": "264efc40",
   "metadata": {
    "ExecuteTime": {
     "end_time": "2022-11-21T04:36:38.723083Z",
     "start_time": "2022-11-21T04:36:38.717311Z"
    }
   },
   "outputs": [],
   "source": [
    "# Shape Compatible: one or all in one\n",
    "\n",
    "a = np.ones((6, 5))\n",
    "b = np.arange(5).reshape(1, 5)\n",
    "\n",
    "a+b"
   ]
  },
  {
   "cell_type": "code",
   "execution_count": null,
   "id": "90f3b4f8",
   "metadata": {
    "ExecuteTime": {
     "end_time": "2022-11-21T04:37:25.174086Z",
     "start_time": "2022-11-21T04:37:25.165465Z"
    }
   },
   "outputs": [],
   "source": [
    "a = torch.ones((6, 5))\n",
    "b = torch.arange(5).reshape(1, 5)\n",
    "\n",
    "a+b"
   ]
  },
  {
   "cell_type": "code",
   "execution_count": null,
   "id": "31e0bc45",
   "metadata": {
    "ExecuteTime": {
     "end_time": "2022-11-21T08:31:01.744013Z",
     "start_time": "2022-11-21T08:31:01.296496Z"
    }
   },
   "outputs": [],
   "source": [
    "fig, axes = plt.subplots(1, 2, figsize=(15, 30))\n",
    "\n",
    "Image = torch.randn((256, 256, 3))\n",
    "x = torch.max(Image)\n",
    "Image = torch.abs(Image / x)\n",
    "\n",
    "print(Image.shape)\n",
    "\n",
    "ax = axes[0]\n",
    "ax.imshow(Image)\n",
    "ax.set_title(\"Origin\")\n",
    "\n",
    "ax = axes[1]\n",
    "Image = Image * torch.tensor([0.5, 0.5, 0.2])\n",
    "ax.imshow(Image)\n",
    "ax.set_title(\"Filtered\")\n",
    "\n",
    "plt.show()"
   ]
  },
  {
   "cell_type": "code",
   "execution_count": null,
   "id": "c1f3d065",
   "metadata": {
    "ExecuteTime": {
     "end_time": "2022-11-21T04:50:31.893774Z",
     "start_time": "2022-11-21T04:50:31.874312Z"
    }
   },
   "outputs": [],
   "source": [
    "Images = torch.randn((2, 256, 256, 3))\n",
    "Scales = torch.tensor([0.5, 1.5, 1, 1.5, 1, 0.5]).reshape((2, 1, 1, 3))\n",
    "Result = Images*Scales"
   ]
  },
  {
   "cell_type": "markdown",
   "id": "d90a7ae7",
   "metadata": {
    "ExecuteTime": {
     "end_time": "2022-11-21T04:51:35.020010Z",
     "start_time": "2022-11-21T04:51:35.017670Z"
    }
   },
   "source": [
    "# Across Dimensions"
   ]
  },
  {
   "cell_type": "code",
   "execution_count": null,
   "id": "c1ac88fe",
   "metadata": {
    "ExecuteTime": {
     "end_time": "2022-11-21T04:52:22.685687Z",
     "start_time": "2022-11-21T04:52:22.675052Z"
    }
   },
   "outputs": [],
   "source": [
    "t = torch.tensor([0.5, 1, 3, 4])\n",
    "torch.mean(t), torch.std(t), torch.max(t), torch.min(t)"
   ]
  },
  {
   "cell_type": "code",
   "execution_count": null,
   "id": "294c9c0b",
   "metadata": {
    "ExecuteTime": {
     "end_time": "2022-11-21T04:55:08.433681Z",
     "start_time": "2022-11-21T04:55:08.427690Z"
    }
   },
   "outputs": [],
   "source": [
    "t = torch.arange(20, dtype=float).reshape(5, 4)\n",
    "# across the rows\n",
    "torch.mean(t, axis=0)"
   ]
  },
  {
   "cell_type": "code",
   "execution_count": null,
   "id": "3b95cccd",
   "metadata": {
    "ExecuteTime": {
     "end_time": "2022-11-21T04:57:06.103509Z",
     "start_time": "2022-11-21T04:57:06.067959Z"
    }
   },
   "outputs": [],
   "source": [
    "t = torch.randn(5, 256, 256, 3)\n",
    "torch.mean(t, axis=0).shape"
   ]
  },
  {
   "cell_type": "code",
   "execution_count": null,
   "id": "4ea56fbd",
   "metadata": {
    "ExecuteTime": {
     "end_time": "2022-11-21T04:58:33.161529Z",
     "start_time": "2022-11-21T04:58:33.152616Z"
    }
   },
   "outputs": [],
   "source": [
    "torch.mean(t, axis=-1).shape"
   ]
  },
  {
   "cell_type": "code",
   "execution_count": null,
   "id": "0d26dc9f",
   "metadata": {
    "ExecuteTime": {
     "end_time": "2022-11-21T05:00:47.559433Z",
     "start_time": "2022-11-21T05:00:47.544522Z"
    }
   },
   "outputs": [],
   "source": [
    "values, indices = torch.max(t, axis=-1)\n",
    "indices"
   ]
  },
  {
   "cell_type": "markdown",
   "id": "704fe274",
   "metadata": {},
   "source": [
    "# Difference"
   ]
  },
  {
   "cell_type": "code",
   "execution_count": 2,
   "id": "5c14d33c",
   "metadata": {
    "ExecuteTime": {
     "end_time": "2022-11-21T11:46:33.764133Z",
     "start_time": "2022-11-21T11:46:33.756347Z"
    }
   },
   "outputs": [
    {
     "data": {
      "text/plain": [
       "tensor([[5., 8.],\n",
       "        [4., 6.]], requires_grad=True)"
      ]
     },
     "execution_count": 2,
     "metadata": {},
     "output_type": "execute_result"
    }
   ],
   "source": [
    "x = torch.tensor([[5., 8.], [4., 6.]], requires_grad=True)\n",
    "x"
   ]
  },
  {
   "cell_type": "code",
   "execution_count": null,
   "id": "7a8cd9e3",
   "metadata": {
    "ExecuteTime": {
     "end_time": "2022-11-21T08:38:05.309190Z",
     "start_time": "2022-11-21T08:38:05.305622Z"
    }
   },
   "outputs": [],
   "source": [
    "5.01**3"
   ]
  },
  {
   "cell_type": "code",
   "execution_count": 6,
   "id": "375eaf9e",
   "metadata": {
    "ExecuteTime": {
     "end_time": "2022-11-21T11:48:44.843982Z",
     "start_time": "2022-11-21T11:48:44.811234Z"
    }
   },
   "outputs": [
    {
     "name": "stdout",
     "output_type": "stream",
     "text": [
      "tensor([[ 75., 192.],\n",
      "        [ 48., 108.]])\n"
     ]
    }
   ],
   "source": [
    "y = x.pow(3).sum()\n",
    "# print(x)\n",
    "# print(y)\n",
    "\n",
    "y.backward()\n",
    "print(x.grad)"
   ]
  },
  {
   "cell_type": "markdown",
   "id": "d23b35e3",
   "metadata": {},
   "source": [
    "# Trade-off"
   ]
  },
  {
   "cell_type": "code",
   "execution_count": null,
   "id": "c39334ff",
   "metadata": {
    "ExecuteTime": {
     "end_time": "2022-11-21T05:09:56.355909Z",
     "start_time": "2022-11-21T05:09:56.298986Z"
    }
   },
   "outputs": [],
   "source": [
    "A = torch.randn((1000, 1000))\n",
    "B = torch.randn((1000, 1000))\n",
    "t1 = time.perf_counter()\n",
    "torch.matmul(A, B)\n",
    "t2 = time.perf_counter()\n",
    "print(t2-t1)"
   ]
  },
  {
   "cell_type": "code",
   "execution_count": null,
   "id": "42413f1f",
   "metadata": {
    "ExecuteTime": {
     "end_time": "2022-11-21T05:11:32.595195Z",
     "start_time": "2022-11-21T05:11:32.497289Z"
    }
   },
   "outputs": [],
   "source": [
    "A = np.random.randn(int(1e6)).reshape(1000, 1000)\n",
    "B = np.random.randn(int(1e6)).reshape(1000, 1000)\n",
    "t1 = time.perf_counter()\n",
    "A@B\n",
    "t2 = time.perf_counter()\n",
    "print(t2-t1)"
   ]
  }
 ],
 "metadata": {
  "kernelspec": {
   "display_name": "Python 3 (ipykernel)",
   "language": "python",
   "name": "python3"
  },
  "language_info": {
   "codemirror_mode": {
    "name": "ipython",
    "version": 3
   },
   "file_extension": ".py",
   "mimetype": "text/x-python",
   "name": "python",
   "nbconvert_exporter": "python",
   "pygments_lexer": "ipython3",
   "version": "3.9.12"
  },
  "toc": {
   "base_numbering": 1,
   "nav_menu": {},
   "number_sections": true,
   "sideBar": true,
   "skip_h1_title": false,
   "title_cell": "Table of Contents",
   "title_sidebar": "Contents",
   "toc_cell": false,
   "toc_position": {},
   "toc_section_display": true,
   "toc_window_display": true
  }
 },
 "nbformat": 4,
 "nbformat_minor": 5
}
