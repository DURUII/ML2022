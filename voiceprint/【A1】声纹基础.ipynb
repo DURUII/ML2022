{
 "cells": [
  {
   "cell_type": "code",
   "execution_count": null,
   "metadata": {
    "collapsed": true
   },
   "outputs": [],
   "source": [
    "# 工作流\n",
    "# 除了声纹编码器之外所有的模块\n",
    "\n",
    "# 数据处理\n",
    "\n",
    "# 声纹验证\n",
    "\n",
    "# 数据集\n",
    "# 深度学习以前的方法\n",
    "# 基于深度学习的方法\n",
    "\n",
    "# 相似匹配\n",
    "def ComputeCosine(vec1, vec2):\n",
    "    \"\"\"Compute the cosine similarity between two vectors.\n",
    "    Args:\n",
    "        vec1: a list of floating point numbers\n",
    "        vec2: a list of floating point numbers with the same length as vec1\n",
    "    Returns:\n",
    "        a floating point number for the cosine similarity\n",
    "    \"\"\"\n",
    "\n",
    "    assert isinstance(vec1, list)\n",
    "    assert isinstance(vec2, list)\n",
    "    assert len(vec1) > 1\n",
    "    assert len(vec1) == len(vec2)\n",
    "\n",
    "    l1 = 0\n",
    "    l2 = 0\n",
    "    ip = 0\n",
    "\n",
    "    for xi, yi in zip(vec1, vec2):\n",
    "        l1 += xi * xi\n",
    "        l2 += yi * yi\n",
    "        ip += xi * yi\n",
    "\n",
    "    (l1, l2) = map(lambda x: x ** 0.5, (l1, l2))\n",
    "    return ip / l1 / l2"
   ]
  },
  {
   "cell_type": "code",
   "execution_count": 1,
   "outputs": [],
   "source": [
    "# 评价指标\n",
    "\n",
    "## 等错率\n",
    "import csv\n",
    "\n",
    "\n",
    "SCORES = 'scores.csv'\n",
    "\n",
    "def ComputeEER():\n",
    "    \"\"\"\n",
    "    Compute the Equal Error Rate from the data in scores.csv\n",
    "    Returns:\n",
    "        a floating point number for the equal error rate (between 0 and 1)\n",
    "    \"\"\"\n",
    "\n",
    "    labels = []\n",
    "    scores = []\n",
    "\n",
    "    # label若为0，表示负trial pair，也就是不同说话人\n",
    "    # label若为1，表示正trial pair，也就是相同说话人\n",
    "    with open(SCORES) as csvfile:\n",
    "        # 使用csv模组来读取csv文件\n",
    "        spamreader = csv.reader(csvfile, delimiter=',')\n",
    "\n",
    "        for row in spamreader:\n",
    "            labels.append(int(row[0]))\n",
    "            scores.append(float(row[1]))\n",
    "\n",
    "        # 对阈值的取值进行扫描，对每个取值计算对应的FAR和FRR\n",
    "\n",
    "        # 找到使FAR和FRR最为接近的那个阈值，然后取(FAR+FRR)/2作为对应的EER"
   ],
   "metadata": {
    "collapsed": false
   }
  },
  {
   "cell_type": "code",
   "execution_count": 2,
   "outputs": [],
   "source": [
    "# 声纹编码\n",
    "\n",
    "## 1992-1995\n",
    "## 1995-2006\n",
    "## 2007-2013\n",
    "## 2014-"
   ],
   "metadata": {
    "collapsed": false
   }
  },
  {
   "cell_type": "code",
   "execution_count": null,
   "outputs": [],
   "source": [],
   "metadata": {
    "collapsed": false
   }
  }
 ],
 "metadata": {
  "kernelspec": {
   "display_name": "Python 3",
   "language": "python",
   "name": "python3"
  },
  "language_info": {
   "codemirror_mode": {
    "name": "ipython",
    "version": 2
   },
   "file_extension": ".py",
   "mimetype": "text/x-python",
   "name": "python",
   "nbconvert_exporter": "python",
   "pygments_lexer": "ipython2",
   "version": "2.7.6"
  }
 },
 "nbformat": 4,
 "nbformat_minor": 0
}
