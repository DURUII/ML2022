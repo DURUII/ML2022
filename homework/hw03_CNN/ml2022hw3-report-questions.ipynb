{
 "cells": [
  {
   "cell_type": "code",
   "execution_count": 1,
   "id": "5c276288",
   "metadata": {
    "_cell_guid": "b1076dfc-b9ad-4769-8c92-a6c4dae69d19",
    "_uuid": "8f2839f25d086af736a60e9eeb907d3b93b6e0e5",
    "execution": {
     "iopub.execute_input": "2022-03-05T08:43:55.489248Z",
     "iopub.status.busy": "2022-03-05T08:43:55.488449Z",
     "iopub.status.idle": "2022-03-05T08:43:59.224314Z",
     "shell.execute_reply": "2022-03-05T08:43:59.223614Z"
    },
    "papermill": {
     "duration": 3.753143,
     "end_time": "2022-03-05T08:43:59.224491",
     "exception": false,
     "start_time": "2022-03-05T08:43:55.471348",
     "status": "completed"
    },
    "tags": []
   },
   "outputs": [],
   "source": [
    "## This Python 3 environment comes with many helpful analytics libraries installed\n",
    "# It is defined by the kaggle/python Docker image: https://github.com/kaggle/docker-python\n",
    "# For example, here's several helpful packages to load\n",
    "\n",
    "import numpy as np # linear algebra\n",
    "import pandas as pd # data processing, CSV file I/O (e.g. pd.read_csv)\n",
    "\n",
    "# Input data files are available in the read-only \"../input/\" directory\n",
    "# For example, running this (by clicking run or pressing Shift+Enter) will list all files under the input directory\n",
    "\n",
    "import os\n",
    "for dirname, _, filenames in os.walk('/kaggle/input'):\n",
    "    for filename in filenames:\n",
    "        pass\n",
    "        #print(os.path.join(dirname, filename))\n",
    "\n",
    "# You can write up to 20GB to the current directory (/kaggle/working/) that gets preserved as output when you create a version using \"Save & Run All\" \n",
    "# You can also write temporary files to /kaggle/temp/, but they won't be saved outside of the current session"
   ]
  },
  {
   "cell_type": "markdown",
   "id": "2f9a6de4",
   "metadata": {
    "papermill": {
     "duration": 0.004977,
     "end_time": "2022-03-05T08:43:59.236056",
     "exception": false,
     "start_time": "2022-03-05T08:43:59.231079",
     "status": "completed"
    },
    "tags": []
   },
   "source": [
    "# Q1. Augmentation Implementation\n",
    "## Implement augmentation by finishing train_tfm in the code with image size of your choice. \n",
    "## Directly copy the following block and paste it on GradeScope after you finish the code\n",
    "### Your train_tfm must be capable of producing 5+ different results when given an identical image multiple times.\n",
    "### Your  train_tfm in the report can be different from train_tfm in your training code.\n"
   ]
  },
  {
   "cell_type": "code",
   "execution_count": 2,
   "id": "bed66e1a",
   "metadata": {
    "execution": {
     "iopub.execute_input": "2022-03-05T08:43:59.251565Z",
     "iopub.status.busy": "2022-03-05T08:43:59.250890Z",
     "iopub.status.idle": "2022-03-05T08:43:59.308049Z",
     "shell.execute_reply": "2022-03-05T08:43:59.307447Z"
    },
    "papermill": {
     "duration": 0.067162,
     "end_time": "2022-03-05T08:43:59.308356",
     "exception": true,
     "start_time": "2022-03-05T08:43:59.241194",
     "status": "failed"
    },
    "tags": []
   },
   "outputs": [
    {
     "ename": "NameError",
     "evalue": "name 'transforms' is not defined",
     "output_type": "error",
     "traceback": [
      "\u001b[0;31m---------------------------------------------------------------------------\u001b[0m",
      "\u001b[0;31mNameError\u001b[0m                                 Traceback (most recent call last)",
      "\u001b[0;32m/tmp/ipykernel_20/3731101107.py\u001b[0m in \u001b[0;36m<module>\u001b[0;34m\u001b[0m\n\u001b[0;32m----> 1\u001b[0;31m train_tfm = transforms.Compose([\n\u001b[0m\u001b[1;32m      2\u001b[0m     \u001b[0;31m# Resize the image into a fixed shape (height = width = 128)\u001b[0m\u001b[0;34m\u001b[0m\u001b[0;34m\u001b[0m\u001b[0;34m\u001b[0m\u001b[0m\n\u001b[1;32m      3\u001b[0m     \u001b[0mtransforms\u001b[0m\u001b[0;34m.\u001b[0m\u001b[0mResize\u001b[0m\u001b[0;34m(\u001b[0m\u001b[0;34m(\u001b[0m\u001b[0;36m128\u001b[0m\u001b[0;34m,\u001b[0m \u001b[0;36m128\u001b[0m\u001b[0;34m)\u001b[0m\u001b[0;34m)\u001b[0m\u001b[0;34m,\u001b[0m\u001b[0;34m\u001b[0m\u001b[0;34m\u001b[0m\u001b[0m\n\u001b[1;32m      4\u001b[0m     \u001b[0;31m# You need to add some transforms here.\u001b[0m\u001b[0;34m\u001b[0m\u001b[0;34m\u001b[0m\u001b[0;34m\u001b[0m\u001b[0m\n\u001b[1;32m      5\u001b[0m     \u001b[0mtransforms\u001b[0m\u001b[0;34m.\u001b[0m\u001b[0mToTensor\u001b[0m\u001b[0;34m(\u001b[0m\u001b[0;34m)\u001b[0m\u001b[0;34m,\u001b[0m\u001b[0;34m\u001b[0m\u001b[0;34m\u001b[0m\u001b[0m\n",
      "\u001b[0;31mNameError\u001b[0m: name 'transforms' is not defined"
     ]
    }
   ],
   "source": [
    "train_tfm = transforms.Compose([\n",
    "    # Resize the image into a fixed shape (height = width = 128)\n",
    "    transforms.Resize((128, 128)),\n",
    "    # You need to add some transforms here.\n",
    "    transforms.ToTensor(),\n",
    "])"
   ]
  },
  {
   "cell_type": "markdown",
   "id": "86c85e07",
   "metadata": {
    "papermill": {
     "duration": null,
     "end_time": null,
     "exception": null,
     "start_time": null,
     "status": "pending"
    },
    "tags": []
   },
   "source": [
    "# Q2. Residual Implementation\n",
    "![](https://i.imgur.com/GYsq1Ap.png)\n",
    "## Directly copy the following block and paste it on GradeScope after you finish the code\n"
   ]
  },
  {
   "cell_type": "code",
   "execution_count": null,
   "id": "208c723b",
   "metadata": {
    "execution": {
     "iopub.execute_input": "2022-03-03T15:03:39.449532Z",
     "iopub.status.busy": "2022-03-03T15:03:39.449156Z",
     "iopub.status.idle": "2022-03-03T15:03:39.465607Z",
     "shell.execute_reply": "2022-03-03T15:03:39.464476Z",
     "shell.execute_reply.started": "2022-03-03T15:03:39.449498Z"
    },
    "papermill": {
     "duration": null,
     "end_time": null,
     "exception": null,
     "start_time": null,
     "status": "pending"
    },
    "tags": []
   },
   "outputs": [],
   "source": [
    "    from torch import nn\n",
    "    class Residual_Network(nn.Module):\n",
    "        def __init__(self):\n",
    "            super(Residual_Network, self).__init__()\n",
    "\n",
    "            self.cnn_layer1 = nn.Sequential(\n",
    "                nn.Conv2d(3, 64, 3, 1, 1),\n",
    "                nn.BatchNorm2d(64),\n",
    "            )\n",
    "\n",
    "            self.cnn_layer2 = nn.Sequential(\n",
    "                nn.Conv2d(64, 64, 3, 1, 1),\n",
    "                nn.BatchNorm2d(64),\n",
    "            )\n",
    "\n",
    "            self.cnn_layer3 = nn.Sequential(\n",
    "                nn.Conv2d(64, 128, 3, 2, 1),\n",
    "                nn.BatchNorm2d(128),\n",
    "            )\n",
    "\n",
    "            self.cnn_layer4 = nn.Sequential(\n",
    "                nn.Conv2d(128, 128, 3, 1, 1),\n",
    "                nn.BatchNorm2d(128),\n",
    "            )\n",
    "            self.cnn_layer5 = nn.Sequential(\n",
    "                nn.Conv2d(128, 256, 3, 2, 1),\n",
    "                nn.BatchNorm2d(256),\n",
    "            )\n",
    "            self.cnn_layer6 = nn.Sequential(\n",
    "                nn.Conv2d(256, 256, 3, 1, 1),\n",
    "                nn.BatchNorm2d(256),\n",
    "            )\n",
    "            self.fc_layer = nn.Sequential(\n",
    "                nn.Linear(256* 32* 32, 256),\n",
    "                nn.ReLU(),\n",
    "                nn.Linear(256, 11)\n",
    "            )\n",
    "            self.relu = nn.ReLU()\n",
    "\n",
    "        def forward(self, x):\n",
    "            # input (x): [batch_size, 3, 128, 128]\n",
    "            # output: [batch_size, 11]\n",
    "\n",
    "            # Extract features by convolutional layers.\n",
    "            x1 = self.cnn_layer1(x)\n",
    "\n",
    "            x1 = self.relu(x1)\n",
    "\n",
    "            x2 = self.cnn_layer2(x1)\n",
    "\n",
    "            x2 = self.relu(x2)\n",
    "\n",
    "            x3 = self.cnn_layer3(x2)\n",
    "\n",
    "            x3 = self.relu(x3)\n",
    "\n",
    "            x4 = self.cnn_layer4(x3)\n",
    "\n",
    "            x4 = self.relu(x4)\n",
    "\n",
    "            x5 = self.cnn_layer5(x4)\n",
    "\n",
    "            x5 = self.relu(x5)\n",
    "\n",
    "            x6 = self.cnn_layer6(x5)\n",
    "\n",
    "            x6 = self.relu(x6)\n",
    "\n",
    "            # The extracted feature map must be flatten before going to fully-connected layers.\n",
    "            xout = x6.flatten(1)\n",
    "\n",
    "            # The features are transformed by fully-connected layers to obtain the final logits.\n",
    "            xout = self.fc_layer(xout)\n",
    "            return xout"
   ]
  },
  {
   "cell_type": "code",
   "execution_count": null,
   "id": "9ca20a6b",
   "metadata": {
    "execution": {
     "iopub.execute_input": "2022-03-03T15:07:28.361127Z",
     "iopub.status.busy": "2022-03-03T15:07:28.360684Z",
     "iopub.status.idle": "2022-03-03T15:07:29.396993Z",
     "shell.execute_reply": "2022-03-03T15:07:29.396304Z",
     "shell.execute_reply.started": "2022-03-03T15:07:28.361077Z"
    },
    "papermill": {
     "duration": null,
     "end_time": null,
     "exception": null,
     "start_time": null,
     "status": "pending"
    },
    "tags": []
   },
   "outputs": [],
   "source": [
    "# This code block is for testing purposes only, you don't need to submit it to gradescope\n",
    "import torch\n",
    "n = Residual_Network()\n",
    "n(torch.zeros((1,3,128,128)))"
   ]
  }
 ],
 "metadata": {
  "kernelspec": {
   "display_name": "Python 3",
   "language": "python",
   "name": "python3"
  },
  "language_info": {
   "codemirror_mode": {
    "name": "ipython",
    "version": 3
   },
   "file_extension": ".py",
   "mimetype": "text/x-python",
   "name": "python",
   "nbconvert_exporter": "python",
   "pygments_lexer": "ipython3",
   "version": "3.7.12"
  },
  "papermill": {
   "default_parameters": {},
   "duration": 13.525068,
   "end_time": "2022-03-05T08:43:59.924586",
   "environment_variables": {},
   "exception": true,
   "input_path": "__notebook__.ipynb",
   "output_path": "__notebook__.ipynb",
   "parameters": {},
   "start_time": "2022-03-05T08:43:46.399518",
   "version": "2.3.3"
  }
 },
 "nbformat": 4,
 "nbformat_minor": 5
}
